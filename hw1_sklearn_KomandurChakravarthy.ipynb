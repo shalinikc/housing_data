{
 "cells": [
  {
   "cell_type": "code",
   "execution_count": 30,
   "id": "f98d6609",
   "metadata": {},
   "outputs": [],
   "source": [
    "import pandas as pd\n",
    "import sweetviz\n",
    "import numpy as np\n",
    "import matplotlib.pyplot as plt\n",
    "import seaborn as sns\n",
    "\n",
    "from sklearn.compose import ColumnTransformer\n",
    "from sklearn.pipeline import Pipeline, make_pipeline\n",
    "from sklearn.preprocessing import StandardScaler, OneHotEncoder\n",
    "from sklearn.linear_model import LogisticRegression, LogisticRegressionCV\n",
    "from sklearn.model_selection import train_test_split\n",
    "from sklearn.dummy import DummyClassifier\n",
    "from sklearn.ensemble import RandomForestClassifier\n",
    "from sklearn.metrics import confusion_matrix\n",
    "from sklearn.metrics import plot_confusion_matrix"
   ]
  },
  {
   "cell_type": "markdown",
   "id": "86acac63",
   "metadata": {},
   "source": [
    "Lets read in the data that was pre-processed in the other workbook"
   ]
  },
  {
   "cell_type": "code",
   "execution_count": 139,
   "id": "a480acbe",
   "metadata": {},
   "outputs": [
    {
     "name": "stdout",
     "output_type": "stream",
     "text": [
      "<class 'pandas.core.frame.DataFrame'>\n",
      "RangeIndex: 21613 entries, 0 to 21612\n",
      "Data columns (total 19 columns):\n",
      " #   Column         Non-Null Count  Dtype  \n",
      "---  ------         --------------  -----  \n",
      " 0   bedrooms       21613 non-null  int64  \n",
      " 1   bathrooms      21613 non-null  float64\n",
      " 2   sqft_living    21613 non-null  int64  \n",
      " 3   sqft_lot       21613 non-null  int64  \n",
      " 4   floors         21613 non-null  float64\n",
      " 5   waterfront     21613 non-null  int64  \n",
      " 6   view           21613 non-null  int64  \n",
      " 7   condition      21613 non-null  int64  \n",
      " 8   grade          21613 non-null  int64  \n",
      " 9   sqft_above     21613 non-null  int64  \n",
      " 10  sqft_basement  21613 non-null  int64  \n",
      " 11  yr_built       21613 non-null  int64  \n",
      " 12  yr_renovated   21613 non-null  int64  \n",
      " 13  zipcode        21613 non-null  int64  \n",
      " 14  lat            21613 non-null  float64\n",
      " 15  long           21613 non-null  float64\n",
      " 16  sqft_living15  21613 non-null  int64  \n",
      " 17  sqft_lot15     21613 non-null  int64  \n",
      " 18  price_gt_1M    21613 non-null  int64  \n",
      "dtypes: float64(4), int64(15)\n",
      "memory usage: 3.1 MB\n"
     ]
    }
   ],
   "source": [
    "housing_df = pd.read_csv(\"./data/kc_house_data_classification.csv\")\n",
    "housing_df.info()\n"
   ]
  },
  {
   "cell_type": "markdown",
   "id": "52033b34",
   "metadata": {},
   "source": [
    "I have used used sweetviz for EDA"
   ]
  },
  {
   "cell_type": "code",
   "execution_count": 3,
   "id": "84a2cfbc",
   "metadata": {
    "scrolled": true
   },
   "outputs": [
    {
     "data": {
      "application/vnd.jupyter.widget-view+json": {
       "model_id": "36f28d7c9b494025a18460e511742a63",
       "version_major": 2,
       "version_minor": 0
      },
      "text/plain": [
       "                                             |                                             | [  0%]   00:00 ->…"
      ]
     },
     "metadata": {},
     "output_type": "display_data"
    },
    {
     "name": "stderr",
     "output_type": "stream",
     "text": [
      "C:\\Users\\Students\\anaconda3\\lib\\site-packages\\sweetviz\\utils.py:34: FutureWarning: The series.append method is deprecated and will be removed from pandas in a future version. Use pandas.concat instead.\n",
      "  clamped_series = clamped_series.append(other_series, ignore_index=False)\n",
      "C:\\Users\\Students\\anaconda3\\lib\\site-packages\\sweetviz\\graph_associations.py:223: FutureWarning: The frame.append method is deprecated and will be removed from pandas in a future version. Use pandas.concat instead.\n",
      "  new_dataframe = new_dataframe.append(pd.Series(empty_row_dict, name=feature))\n",
      "C:\\Users\\Students\\anaconda3\\lib\\site-packages\\sweetviz\\graph_associations.py:223: FutureWarning: The frame.append method is deprecated and will be removed from pandas in a future version. Use pandas.concat instead.\n",
      "  new_dataframe = new_dataframe.append(pd.Series(empty_row_dict, name=feature))\n",
      "C:\\Users\\Students\\anaconda3\\lib\\site-packages\\sweetviz\\graph_associations.py:223: FutureWarning: The frame.append method is deprecated and will be removed from pandas in a future version. Use pandas.concat instead.\n",
      "  new_dataframe = new_dataframe.append(pd.Series(empty_row_dict, name=feature))\n",
      "C:\\Users\\Students\\anaconda3\\lib\\site-packages\\sweetviz\\graph_associations.py:223: FutureWarning: The frame.append method is deprecated and will be removed from pandas in a future version. Use pandas.concat instead.\n",
      "  new_dataframe = new_dataframe.append(pd.Series(empty_row_dict, name=feature))\n",
      "C:\\Users\\Students\\anaconda3\\lib\\site-packages\\sweetviz\\graph_associations.py:223: FutureWarning: The frame.append method is deprecated and will be removed from pandas in a future version. Use pandas.concat instead.\n",
      "  new_dataframe = new_dataframe.append(pd.Series(empty_row_dict, name=feature))\n",
      "C:\\Users\\Students\\anaconda3\\lib\\site-packages\\sweetviz\\graph_associations.py:223: FutureWarning: The frame.append method is deprecated and will be removed from pandas in a future version. Use pandas.concat instead.\n",
      "  new_dataframe = new_dataframe.append(pd.Series(empty_row_dict, name=feature))\n",
      "C:\\Users\\Students\\anaconda3\\lib\\site-packages\\sweetviz\\graph_associations.py:223: FutureWarning: The frame.append method is deprecated and will be removed from pandas in a future version. Use pandas.concat instead.\n",
      "  new_dataframe = new_dataframe.append(pd.Series(empty_row_dict, name=feature))\n",
      "C:\\Users\\Students\\anaconda3\\lib\\site-packages\\sweetviz\\graph_associations.py:223: FutureWarning: The frame.append method is deprecated and will be removed from pandas in a future version. Use pandas.concat instead.\n",
      "  new_dataframe = new_dataframe.append(pd.Series(empty_row_dict, name=feature))\n",
      "C:\\Users\\Students\\anaconda3\\lib\\site-packages\\sweetviz\\graph_associations.py:223: FutureWarning: The frame.append method is deprecated and will be removed from pandas in a future version. Use pandas.concat instead.\n",
      "  new_dataframe = new_dataframe.append(pd.Series(empty_row_dict, name=feature))\n",
      "C:\\Users\\Students\\anaconda3\\lib\\site-packages\\sweetviz\\graph_associations.py:223: FutureWarning: The frame.append method is deprecated and will be removed from pandas in a future version. Use pandas.concat instead.\n",
      "  new_dataframe = new_dataframe.append(pd.Series(empty_row_dict, name=feature))\n",
      "C:\\Users\\Students\\anaconda3\\lib\\site-packages\\sweetviz\\graph_associations.py:223: FutureWarning: The frame.append method is deprecated and will be removed from pandas in a future version. Use pandas.concat instead.\n",
      "  new_dataframe = new_dataframe.append(pd.Series(empty_row_dict, name=feature))\n",
      "C:\\Users\\Students\\anaconda3\\lib\\site-packages\\sweetviz\\graph_associations.py:223: FutureWarning: The frame.append method is deprecated and will be removed from pandas in a future version. Use pandas.concat instead.\n",
      "  new_dataframe = new_dataframe.append(pd.Series(empty_row_dict, name=feature))\n",
      "C:\\Users\\Students\\anaconda3\\lib\\site-packages\\sweetviz\\graph_associations.py:223: FutureWarning: The frame.append method is deprecated and will be removed from pandas in a future version. Use pandas.concat instead.\n",
      "  new_dataframe = new_dataframe.append(pd.Series(empty_row_dict, name=feature))\n",
      "C:\\Users\\Students\\anaconda3\\lib\\site-packages\\sweetviz\\graph_associations.py:223: FutureWarning: The frame.append method is deprecated and will be removed from pandas in a future version. Use pandas.concat instead.\n",
      "  new_dataframe = new_dataframe.append(pd.Series(empty_row_dict, name=feature))\n",
      "C:\\Users\\Students\\anaconda3\\lib\\site-packages\\sweetviz\\graph_associations.py:223: FutureWarning: The frame.append method is deprecated and will be removed from pandas in a future version. Use pandas.concat instead.\n",
      "  new_dataframe = new_dataframe.append(pd.Series(empty_row_dict, name=feature))\n",
      "C:\\Users\\Students\\anaconda3\\lib\\site-packages\\sweetviz\\graph_associations.py:223: FutureWarning: The frame.append method is deprecated and will be removed from pandas in a future version. Use pandas.concat instead.\n",
      "  new_dataframe = new_dataframe.append(pd.Series(empty_row_dict, name=feature))\n",
      "C:\\Users\\Students\\anaconda3\\lib\\site-packages\\sweetviz\\graph_associations.py:223: FutureWarning: The frame.append method is deprecated and will be removed from pandas in a future version. Use pandas.concat instead.\n",
      "  new_dataframe = new_dataframe.append(pd.Series(empty_row_dict, name=feature))\n",
      "C:\\Users\\Students\\anaconda3\\lib\\site-packages\\sweetviz\\graph_associations.py:223: FutureWarning: The frame.append method is deprecated and will be removed from pandas in a future version. Use pandas.concat instead.\n",
      "  new_dataframe = new_dataframe.append(pd.Series(empty_row_dict, name=feature))\n",
      "C:\\Users\\Students\\anaconda3\\lib\\site-packages\\sweetviz\\graph_associations.py:223: FutureWarning: The frame.append method is deprecated and will be removed from pandas in a future version. Use pandas.concat instead.\n",
      "  new_dataframe = new_dataframe.append(pd.Series(empty_row_dict, name=feature))\n"
     ]
    },
    {
     "name": "stdout",
     "output_type": "stream",
     "text": [
      "Report output/sweetviz_report_housing_data.html was generated! NOTEBOOK/COLAB USERS: the web browser MAY not pop up, regardless, the report IS saved in your notebook/colab files.\n"
     ]
    }
   ],
   "source": [
    "report =  sweetviz.analyze(housing_df)\n",
    "report.show_html(\"output/sweetviz_report_housing_data.html\")"
   ]
  },
  {
   "cell_type": "code",
   "execution_count": 32,
   "id": "b26a2ae9",
   "metadata": {},
   "outputs": [],
   "source": [
    "X = housing_df.iloc[:, 0:18]\n",
    "y = housing_df.iloc[:, 18]"
   ]
  },
  {
   "cell_type": "code",
   "execution_count": 33,
   "id": "8a39c4c3",
   "metadata": {},
   "outputs": [],
   "source": [
    "X_train, X_test, y_train, y_test = train_test_split(X, y, test_size=0.2, random_state=73)\n"
   ]
  },
  {
   "cell_type": "code",
   "execution_count": 34,
   "id": "23ff9a9f",
   "metadata": {},
   "outputs": [],
   "source": [
    "cols = X_train.columns.tolist()"
   ]
  },
  {
   "cell_type": "code",
   "execution_count": 35,
   "id": "7134f1c0",
   "metadata": {},
   "outputs": [
    {
     "data": {
      "text/plain": [
       "['sqft_living',\n",
       " 'sqft_lot',\n",
       " 'sqft_above',\n",
       " 'sqft_basement',\n",
       " 'lat',\n",
       " 'long',\n",
       " 'sqft_living15',\n",
       " 'sqft_lot15']"
      ]
     },
     "execution_count": 35,
     "metadata": {},
     "output_type": "execute_result"
    }
   ],
   "source": [
    "numerical_cols = ['sqft_living','sqft_lot','sqft_above','sqft_basement','lat','long','sqft_living15','sqft_lot15']\n",
    "numerical_cols"
   ]
  },
  {
   "cell_type": "code",
   "execution_count": 36,
   "id": "65053384",
   "metadata": {},
   "outputs": [
    {
     "data": {
      "text/plain": [
       "['bedrooms',\n",
       " 'bathrooms',\n",
       " 'floors',\n",
       " 'waterfront',\n",
       " 'view',\n",
       " 'condition',\n",
       " 'grade',\n",
       " 'yr_built',\n",
       " 'yr_renovated',\n",
       " 'zipcode']"
      ]
     },
     "execution_count": 36,
     "metadata": {},
     "output_type": "execute_result"
    }
   ],
   "source": [
    "categorical_cols = [x for x in cols if x not in numerical_cols]\n",
    "categorical_cols"
   ]
  },
  {
   "cell_type": "code",
   "execution_count": 37,
   "id": "ddc380de",
   "metadata": {},
   "outputs": [],
   "source": [
    "# Create transformer objects\n",
    "numeric_transformer = StandardScaler()\n",
    "categorical_transformer = OneHotEncoder(handle_unknown='ignore')\n",
    "\n",
    "# Combine transformers into a preprocessor step\n",
    "preprocessor = ColumnTransformer(\n",
    "    transformers=[\n",
    "        ('num', numeric_transformer, numerical_cols),\n",
    "        ('cat', categorical_transformer, categorical_cols)])"
   ]
  },
  {
   "cell_type": "code",
   "execution_count": 38,
   "id": "586c440b",
   "metadata": {},
   "outputs": [
    {
     "data": {
      "text/html": [
       "<style>#sk-b8eab8d2-29ee-4e1d-9244-4cb1da6b7e33 {color: black;background-color: white;}#sk-b8eab8d2-29ee-4e1d-9244-4cb1da6b7e33 pre{padding: 0;}#sk-b8eab8d2-29ee-4e1d-9244-4cb1da6b7e33 div.sk-toggleable {background-color: white;}#sk-b8eab8d2-29ee-4e1d-9244-4cb1da6b7e33 label.sk-toggleable__label {cursor: pointer;display: block;width: 100%;margin-bottom: 0;padding: 0.2em 0.3em;box-sizing: border-box;text-align: center;}#sk-b8eab8d2-29ee-4e1d-9244-4cb1da6b7e33 div.sk-toggleable__content {max-height: 0;max-width: 0;overflow: hidden;text-align: left;background-color: #f0f8ff;}#sk-b8eab8d2-29ee-4e1d-9244-4cb1da6b7e33 div.sk-toggleable__content pre {margin: 0.2em;color: black;border-radius: 0.25em;background-color: #f0f8ff;}#sk-b8eab8d2-29ee-4e1d-9244-4cb1da6b7e33 input.sk-toggleable__control:checked~div.sk-toggleable__content {max-height: 200px;max-width: 100%;overflow: auto;}#sk-b8eab8d2-29ee-4e1d-9244-4cb1da6b7e33 div.sk-estimator input.sk-toggleable__control:checked~label.sk-toggleable__label {background-color: #d4ebff;}#sk-b8eab8d2-29ee-4e1d-9244-4cb1da6b7e33 div.sk-label input.sk-toggleable__control:checked~label.sk-toggleable__label {background-color: #d4ebff;}#sk-b8eab8d2-29ee-4e1d-9244-4cb1da6b7e33 input.sk-hidden--visually {border: 0;clip: rect(1px 1px 1px 1px);clip: rect(1px, 1px, 1px, 1px);height: 1px;margin: -1px;overflow: hidden;padding: 0;position: absolute;width: 1px;}#sk-b8eab8d2-29ee-4e1d-9244-4cb1da6b7e33 div.sk-estimator {font-family: monospace;background-color: #f0f8ff;margin: 0.25em 0.25em;border: 1px dotted black;border-radius: 0.25em;box-sizing: border-box;}#sk-b8eab8d2-29ee-4e1d-9244-4cb1da6b7e33 div.sk-estimator:hover {background-color: #d4ebff;}#sk-b8eab8d2-29ee-4e1d-9244-4cb1da6b7e33 div.sk-parallel-item::after {content: \"\";width: 100%;border-bottom: 1px solid gray;flex-grow: 1;}#sk-b8eab8d2-29ee-4e1d-9244-4cb1da6b7e33 div.sk-label:hover label.sk-toggleable__label {background-color: #d4ebff;}#sk-b8eab8d2-29ee-4e1d-9244-4cb1da6b7e33 div.sk-serial::before {content: \"\";position: absolute;border-left: 1px solid gray;box-sizing: border-box;top: 2em;bottom: 0;left: 50%;}#sk-b8eab8d2-29ee-4e1d-9244-4cb1da6b7e33 div.sk-serial {display: flex;flex-direction: column;align-items: center;background-color: white;}#sk-b8eab8d2-29ee-4e1d-9244-4cb1da6b7e33 div.sk-item {z-index: 1;}#sk-b8eab8d2-29ee-4e1d-9244-4cb1da6b7e33 div.sk-parallel {display: flex;align-items: stretch;justify-content: center;background-color: white;}#sk-b8eab8d2-29ee-4e1d-9244-4cb1da6b7e33 div.sk-parallel-item {display: flex;flex-direction: column;position: relative;background-color: white;}#sk-b8eab8d2-29ee-4e1d-9244-4cb1da6b7e33 div.sk-parallel-item:first-child::after {align-self: flex-end;width: 50%;}#sk-b8eab8d2-29ee-4e1d-9244-4cb1da6b7e33 div.sk-parallel-item:last-child::after {align-self: flex-start;width: 50%;}#sk-b8eab8d2-29ee-4e1d-9244-4cb1da6b7e33 div.sk-parallel-item:only-child::after {width: 0;}#sk-b8eab8d2-29ee-4e1d-9244-4cb1da6b7e33 div.sk-dashed-wrapped {border: 1px dashed gray;margin: 0.2em;box-sizing: border-box;padding-bottom: 0.1em;background-color: white;position: relative;}#sk-b8eab8d2-29ee-4e1d-9244-4cb1da6b7e33 div.sk-label label {font-family: monospace;font-weight: bold;background-color: white;display: inline-block;line-height: 1.2em;}#sk-b8eab8d2-29ee-4e1d-9244-4cb1da6b7e33 div.sk-label-container {position: relative;z-index: 2;text-align: center;}#sk-b8eab8d2-29ee-4e1d-9244-4cb1da6b7e33 div.sk-container {display: inline-block;position: relative;}</style><div id=\"sk-b8eab8d2-29ee-4e1d-9244-4cb1da6b7e33\" class\"sk-top-container\"><div class=\"sk-container\"><div class=\"sk-item sk-dashed-wrapped\"><div class=\"sk-label-container\"><div class=\"sk-label sk-toggleable\"><input class=\"sk-toggleable__control sk-hidden--visually\" id=\"17b60af1-9bb6-4094-8272-e5a6b2309318\" type=\"checkbox\" ><label class=\"sk-toggleable__label\" for=\"17b60af1-9bb6-4094-8272-e5a6b2309318\">ColumnTransformer</label><div class=\"sk-toggleable__content\"><pre>ColumnTransformer(transformers=[('num', StandardScaler(),\n",
       "                                 ['sqft_living', 'sqft_lot', 'sqft_above',\n",
       "                                  'sqft_basement', 'lat', 'long',\n",
       "                                  'sqft_living15', 'sqft_lot15']),\n",
       "                                ('cat', OneHotEncoder(handle_unknown='ignore'),\n",
       "                                 ['bedrooms', 'bathrooms', 'floors',\n",
       "                                  'waterfront', 'view', 'condition', 'grade',\n",
       "                                  'yr_built', 'yr_renovated', 'zipcode'])])</pre></div></div></div><div class=\"sk-parallel\"><div class=\"sk-parallel-item\"><div class=\"sk-item\"><div class=\"sk-label-container\"><div class=\"sk-label sk-toggleable\"><input class=\"sk-toggleable__control sk-hidden--visually\" id=\"88cdbb27-c701-4e1d-bdec-f25511c5c2aa\" type=\"checkbox\" ><label class=\"sk-toggleable__label\" for=\"88cdbb27-c701-4e1d-bdec-f25511c5c2aa\">num</label><div class=\"sk-toggleable__content\"><pre>['sqft_living', 'sqft_lot', 'sqft_above', 'sqft_basement', 'lat', 'long', 'sqft_living15', 'sqft_lot15']</pre></div></div></div><div class=\"sk-serial\"><div class=\"sk-item\"><div class=\"sk-estimator sk-toggleable\"><input class=\"sk-toggleable__control sk-hidden--visually\" id=\"59ee13e6-b582-4f08-a3b1-473d916454b1\" type=\"checkbox\" ><label class=\"sk-toggleable__label\" for=\"59ee13e6-b582-4f08-a3b1-473d916454b1\">StandardScaler</label><div class=\"sk-toggleable__content\"><pre>StandardScaler()</pre></div></div></div></div></div></div><div class=\"sk-parallel-item\"><div class=\"sk-item\"><div class=\"sk-label-container\"><div class=\"sk-label sk-toggleable\"><input class=\"sk-toggleable__control sk-hidden--visually\" id=\"edbf0a7a-9507-4fd9-8e9b-774c6e49d8f6\" type=\"checkbox\" ><label class=\"sk-toggleable__label\" for=\"edbf0a7a-9507-4fd9-8e9b-774c6e49d8f6\">cat</label><div class=\"sk-toggleable__content\"><pre>['bedrooms', 'bathrooms', 'floors', 'waterfront', 'view', 'condition', 'grade', 'yr_built', 'yr_renovated', 'zipcode']</pre></div></div></div><div class=\"sk-serial\"><div class=\"sk-item\"><div class=\"sk-estimator sk-toggleable\"><input class=\"sk-toggleable__control sk-hidden--visually\" id=\"b2472af9-fbcd-43ad-b48a-09028aa12827\" type=\"checkbox\" ><label class=\"sk-toggleable__label\" for=\"b2472af9-fbcd-43ad-b48a-09028aa12827\">OneHotEncoder</label><div class=\"sk-toggleable__content\"><pre>OneHotEncoder(handle_unknown='ignore')</pre></div></div></div></div></div></div></div></div></div></div>"
      ],
      "text/plain": [
       "ColumnTransformer(transformers=[('num', StandardScaler(),\n",
       "                                 ['sqft_living', 'sqft_lot', 'sqft_above',\n",
       "                                  'sqft_basement', 'lat', 'long',\n",
       "                                  'sqft_living15', 'sqft_lot15']),\n",
       "                                ('cat', OneHotEncoder(handle_unknown='ignore'),\n",
       "                                 ['bedrooms', 'bathrooms', 'floors',\n",
       "                                  'waterfront', 'view', 'condition', 'grade',\n",
       "                                  'yr_built', 'yr_renovated', 'zipcode'])])"
      ]
     },
     "execution_count": 38,
     "metadata": {},
     "output_type": "execute_result"
    }
   ],
   "source": [
    "preprocessor"
   ]
  },
  {
   "cell_type": "code",
   "execution_count": 39,
   "id": "3433ce0c",
   "metadata": {},
   "outputs": [],
   "source": [
    "# Classifier model\n",
    "clf_model = LogisticRegression(penalty='l2', C=1, solver='saga', max_iter=2000)\n",
    "\n",
    "# Append classifier to preprocessing pipeline.\n",
    "# Now we have a full prediction pipeline.\n",
    "clf = Pipeline(steps=[('preprocessor', preprocessor),\n",
    "                      ('classifier', clf_model)])"
   ]
  },
  {
   "cell_type": "code",
   "execution_count": 40,
   "id": "a9a5be52",
   "metadata": {},
   "outputs": [
    {
     "data": {
      "text/html": [
       "<style>#sk-92f21aba-1608-457d-9cf1-84047a623ee7 {color: black;background-color: white;}#sk-92f21aba-1608-457d-9cf1-84047a623ee7 pre{padding: 0;}#sk-92f21aba-1608-457d-9cf1-84047a623ee7 div.sk-toggleable {background-color: white;}#sk-92f21aba-1608-457d-9cf1-84047a623ee7 label.sk-toggleable__label {cursor: pointer;display: block;width: 100%;margin-bottom: 0;padding: 0.2em 0.3em;box-sizing: border-box;text-align: center;}#sk-92f21aba-1608-457d-9cf1-84047a623ee7 div.sk-toggleable__content {max-height: 0;max-width: 0;overflow: hidden;text-align: left;background-color: #f0f8ff;}#sk-92f21aba-1608-457d-9cf1-84047a623ee7 div.sk-toggleable__content pre {margin: 0.2em;color: black;border-radius: 0.25em;background-color: #f0f8ff;}#sk-92f21aba-1608-457d-9cf1-84047a623ee7 input.sk-toggleable__control:checked~div.sk-toggleable__content {max-height: 200px;max-width: 100%;overflow: auto;}#sk-92f21aba-1608-457d-9cf1-84047a623ee7 div.sk-estimator input.sk-toggleable__control:checked~label.sk-toggleable__label {background-color: #d4ebff;}#sk-92f21aba-1608-457d-9cf1-84047a623ee7 div.sk-label input.sk-toggleable__control:checked~label.sk-toggleable__label {background-color: #d4ebff;}#sk-92f21aba-1608-457d-9cf1-84047a623ee7 input.sk-hidden--visually {border: 0;clip: rect(1px 1px 1px 1px);clip: rect(1px, 1px, 1px, 1px);height: 1px;margin: -1px;overflow: hidden;padding: 0;position: absolute;width: 1px;}#sk-92f21aba-1608-457d-9cf1-84047a623ee7 div.sk-estimator {font-family: monospace;background-color: #f0f8ff;margin: 0.25em 0.25em;border: 1px dotted black;border-radius: 0.25em;box-sizing: border-box;}#sk-92f21aba-1608-457d-9cf1-84047a623ee7 div.sk-estimator:hover {background-color: #d4ebff;}#sk-92f21aba-1608-457d-9cf1-84047a623ee7 div.sk-parallel-item::after {content: \"\";width: 100%;border-bottom: 1px solid gray;flex-grow: 1;}#sk-92f21aba-1608-457d-9cf1-84047a623ee7 div.sk-label:hover label.sk-toggleable__label {background-color: #d4ebff;}#sk-92f21aba-1608-457d-9cf1-84047a623ee7 div.sk-serial::before {content: \"\";position: absolute;border-left: 1px solid gray;box-sizing: border-box;top: 2em;bottom: 0;left: 50%;}#sk-92f21aba-1608-457d-9cf1-84047a623ee7 div.sk-serial {display: flex;flex-direction: column;align-items: center;background-color: white;}#sk-92f21aba-1608-457d-9cf1-84047a623ee7 div.sk-item {z-index: 1;}#sk-92f21aba-1608-457d-9cf1-84047a623ee7 div.sk-parallel {display: flex;align-items: stretch;justify-content: center;background-color: white;}#sk-92f21aba-1608-457d-9cf1-84047a623ee7 div.sk-parallel-item {display: flex;flex-direction: column;position: relative;background-color: white;}#sk-92f21aba-1608-457d-9cf1-84047a623ee7 div.sk-parallel-item:first-child::after {align-self: flex-end;width: 50%;}#sk-92f21aba-1608-457d-9cf1-84047a623ee7 div.sk-parallel-item:last-child::after {align-self: flex-start;width: 50%;}#sk-92f21aba-1608-457d-9cf1-84047a623ee7 div.sk-parallel-item:only-child::after {width: 0;}#sk-92f21aba-1608-457d-9cf1-84047a623ee7 div.sk-dashed-wrapped {border: 1px dashed gray;margin: 0.2em;box-sizing: border-box;padding-bottom: 0.1em;background-color: white;position: relative;}#sk-92f21aba-1608-457d-9cf1-84047a623ee7 div.sk-label label {font-family: monospace;font-weight: bold;background-color: white;display: inline-block;line-height: 1.2em;}#sk-92f21aba-1608-457d-9cf1-84047a623ee7 div.sk-label-container {position: relative;z-index: 2;text-align: center;}#sk-92f21aba-1608-457d-9cf1-84047a623ee7 div.sk-container {display: inline-block;position: relative;}</style><div id=\"sk-92f21aba-1608-457d-9cf1-84047a623ee7\" class\"sk-top-container\"><div class=\"sk-container\"><div class=\"sk-item sk-dashed-wrapped\"><div class=\"sk-label-container\"><div class=\"sk-label sk-toggleable\"><input class=\"sk-toggleable__control sk-hidden--visually\" id=\"0dea43fa-3614-4c77-b811-9e77c03f86fd\" type=\"checkbox\" ><label class=\"sk-toggleable__label\" for=\"0dea43fa-3614-4c77-b811-9e77c03f86fd\">Pipeline</label><div class=\"sk-toggleable__content\"><pre>Pipeline(steps=[('preprocessor',\n",
       "                 ColumnTransformer(transformers=[('num', StandardScaler(),\n",
       "                                                  ['sqft_living', 'sqft_lot',\n",
       "                                                   'sqft_above',\n",
       "                                                   'sqft_basement', 'lat',\n",
       "                                                   'long', 'sqft_living15',\n",
       "                                                   'sqft_lot15']),\n",
       "                                                 ('cat',\n",
       "                                                  OneHotEncoder(handle_unknown='ignore'),\n",
       "                                                  ['bedrooms', 'bathrooms',\n",
       "                                                   'floors', 'waterfront',\n",
       "                                                   'view', 'condition', 'grade',\n",
       "                                                   'yr_built', 'yr_renovated',\n",
       "                                                   'zipcode'])])),\n",
       "                ('classifier',\n",
       "                 LogisticRegression(C=1, max_iter=2000, solver='saga'))])</pre></div></div></div><div class=\"sk-serial\"><div class=\"sk-item sk-dashed-wrapped\"><div class=\"sk-label-container\"><div class=\"sk-label sk-toggleable\"><input class=\"sk-toggleable__control sk-hidden--visually\" id=\"498729c3-cd7f-4d0e-bf1e-3c7687237938\" type=\"checkbox\" ><label class=\"sk-toggleable__label\" for=\"498729c3-cd7f-4d0e-bf1e-3c7687237938\">preprocessor: ColumnTransformer</label><div class=\"sk-toggleable__content\"><pre>ColumnTransformer(transformers=[('num', StandardScaler(),\n",
       "                                 ['sqft_living', 'sqft_lot', 'sqft_above',\n",
       "                                  'sqft_basement', 'lat', 'long',\n",
       "                                  'sqft_living15', 'sqft_lot15']),\n",
       "                                ('cat', OneHotEncoder(handle_unknown='ignore'),\n",
       "                                 ['bedrooms', 'bathrooms', 'floors',\n",
       "                                  'waterfront', 'view', 'condition', 'grade',\n",
       "                                  'yr_built', 'yr_renovated', 'zipcode'])])</pre></div></div></div><div class=\"sk-parallel\"><div class=\"sk-parallel-item\"><div class=\"sk-item\"><div class=\"sk-label-container\"><div class=\"sk-label sk-toggleable\"><input class=\"sk-toggleable__control sk-hidden--visually\" id=\"3ecb2bea-c134-430f-afdd-52cc4efd0ea7\" type=\"checkbox\" ><label class=\"sk-toggleable__label\" for=\"3ecb2bea-c134-430f-afdd-52cc4efd0ea7\">num</label><div class=\"sk-toggleable__content\"><pre>['sqft_living', 'sqft_lot', 'sqft_above', 'sqft_basement', 'lat', 'long', 'sqft_living15', 'sqft_lot15']</pre></div></div></div><div class=\"sk-serial\"><div class=\"sk-item\"><div class=\"sk-estimator sk-toggleable\"><input class=\"sk-toggleable__control sk-hidden--visually\" id=\"0e9322ba-3f7e-4b24-9278-7dcfed8e2142\" type=\"checkbox\" ><label class=\"sk-toggleable__label\" for=\"0e9322ba-3f7e-4b24-9278-7dcfed8e2142\">StandardScaler</label><div class=\"sk-toggleable__content\"><pre>StandardScaler()</pre></div></div></div></div></div></div><div class=\"sk-parallel-item\"><div class=\"sk-item\"><div class=\"sk-label-container\"><div class=\"sk-label sk-toggleable\"><input class=\"sk-toggleable__control sk-hidden--visually\" id=\"22e736d1-b453-4445-ae1b-a03928f1be68\" type=\"checkbox\" ><label class=\"sk-toggleable__label\" for=\"22e736d1-b453-4445-ae1b-a03928f1be68\">cat</label><div class=\"sk-toggleable__content\"><pre>['bedrooms', 'bathrooms', 'floors', 'waterfront', 'view', 'condition', 'grade', 'yr_built', 'yr_renovated', 'zipcode']</pre></div></div></div><div class=\"sk-serial\"><div class=\"sk-item\"><div class=\"sk-estimator sk-toggleable\"><input class=\"sk-toggleable__control sk-hidden--visually\" id=\"0c81b469-8ac3-4d7c-8365-722c983a1205\" type=\"checkbox\" ><label class=\"sk-toggleable__label\" for=\"0c81b469-8ac3-4d7c-8365-722c983a1205\">OneHotEncoder</label><div class=\"sk-toggleable__content\"><pre>OneHotEncoder(handle_unknown='ignore')</pre></div></div></div></div></div></div></div></div><div class=\"sk-item\"><div class=\"sk-estimator sk-toggleable\"><input class=\"sk-toggleable__control sk-hidden--visually\" id=\"abc44a8a-7949-4326-b3ea-7bf4820e2ff2\" type=\"checkbox\" ><label class=\"sk-toggleable__label\" for=\"abc44a8a-7949-4326-b3ea-7bf4820e2ff2\">LogisticRegression</label><div class=\"sk-toggleable__content\"><pre>LogisticRegression(C=1, max_iter=2000, solver='saga')</pre></div></div></div></div></div></div></div>"
      ],
      "text/plain": [
       "Pipeline(steps=[('preprocessor',\n",
       "                 ColumnTransformer(transformers=[('num', StandardScaler(),\n",
       "                                                  ['sqft_living', 'sqft_lot',\n",
       "                                                   'sqft_above',\n",
       "                                                   'sqft_basement', 'lat',\n",
       "                                                   'long', 'sqft_living15',\n",
       "                                                   'sqft_lot15']),\n",
       "                                                 ('cat',\n",
       "                                                  OneHotEncoder(handle_unknown='ignore'),\n",
       "                                                  ['bedrooms', 'bathrooms',\n",
       "                                                   'floors', 'waterfront',\n",
       "                                                   'view', 'condition', 'grade',\n",
       "                                                   'yr_built', 'yr_renovated',\n",
       "                                                   'zipcode'])])),\n",
       "                ('classifier',\n",
       "                 LogisticRegression(C=1, max_iter=2000, solver='saga'))])"
      ]
     },
     "execution_count": 40,
     "metadata": {},
     "output_type": "execute_result"
    }
   ],
   "source": [
    "clf"
   ]
  },
  {
   "cell_type": "code",
   "execution_count": 41,
   "id": "fd6f29b5",
   "metadata": {},
   "outputs": [
    {
     "data": {
      "text/html": [
       "<style>#sk-e91515fa-e389-4dfb-94c2-895c75545f2f {color: black;background-color: white;}#sk-e91515fa-e389-4dfb-94c2-895c75545f2f pre{padding: 0;}#sk-e91515fa-e389-4dfb-94c2-895c75545f2f div.sk-toggleable {background-color: white;}#sk-e91515fa-e389-4dfb-94c2-895c75545f2f label.sk-toggleable__label {cursor: pointer;display: block;width: 100%;margin-bottom: 0;padding: 0.2em 0.3em;box-sizing: border-box;text-align: center;}#sk-e91515fa-e389-4dfb-94c2-895c75545f2f div.sk-toggleable__content {max-height: 0;max-width: 0;overflow: hidden;text-align: left;background-color: #f0f8ff;}#sk-e91515fa-e389-4dfb-94c2-895c75545f2f div.sk-toggleable__content pre {margin: 0.2em;color: black;border-radius: 0.25em;background-color: #f0f8ff;}#sk-e91515fa-e389-4dfb-94c2-895c75545f2f input.sk-toggleable__control:checked~div.sk-toggleable__content {max-height: 200px;max-width: 100%;overflow: auto;}#sk-e91515fa-e389-4dfb-94c2-895c75545f2f div.sk-estimator input.sk-toggleable__control:checked~label.sk-toggleable__label {background-color: #d4ebff;}#sk-e91515fa-e389-4dfb-94c2-895c75545f2f div.sk-label input.sk-toggleable__control:checked~label.sk-toggleable__label {background-color: #d4ebff;}#sk-e91515fa-e389-4dfb-94c2-895c75545f2f input.sk-hidden--visually {border: 0;clip: rect(1px 1px 1px 1px);clip: rect(1px, 1px, 1px, 1px);height: 1px;margin: -1px;overflow: hidden;padding: 0;position: absolute;width: 1px;}#sk-e91515fa-e389-4dfb-94c2-895c75545f2f div.sk-estimator {font-family: monospace;background-color: #f0f8ff;margin: 0.25em 0.25em;border: 1px dotted black;border-radius: 0.25em;box-sizing: border-box;}#sk-e91515fa-e389-4dfb-94c2-895c75545f2f div.sk-estimator:hover {background-color: #d4ebff;}#sk-e91515fa-e389-4dfb-94c2-895c75545f2f div.sk-parallel-item::after {content: \"\";width: 100%;border-bottom: 1px solid gray;flex-grow: 1;}#sk-e91515fa-e389-4dfb-94c2-895c75545f2f div.sk-label:hover label.sk-toggleable__label {background-color: #d4ebff;}#sk-e91515fa-e389-4dfb-94c2-895c75545f2f div.sk-serial::before {content: \"\";position: absolute;border-left: 1px solid gray;box-sizing: border-box;top: 2em;bottom: 0;left: 50%;}#sk-e91515fa-e389-4dfb-94c2-895c75545f2f div.sk-serial {display: flex;flex-direction: column;align-items: center;background-color: white;}#sk-e91515fa-e389-4dfb-94c2-895c75545f2f div.sk-item {z-index: 1;}#sk-e91515fa-e389-4dfb-94c2-895c75545f2f div.sk-parallel {display: flex;align-items: stretch;justify-content: center;background-color: white;}#sk-e91515fa-e389-4dfb-94c2-895c75545f2f div.sk-parallel-item {display: flex;flex-direction: column;position: relative;background-color: white;}#sk-e91515fa-e389-4dfb-94c2-895c75545f2f div.sk-parallel-item:first-child::after {align-self: flex-end;width: 50%;}#sk-e91515fa-e389-4dfb-94c2-895c75545f2f div.sk-parallel-item:last-child::after {align-self: flex-start;width: 50%;}#sk-e91515fa-e389-4dfb-94c2-895c75545f2f div.sk-parallel-item:only-child::after {width: 0;}#sk-e91515fa-e389-4dfb-94c2-895c75545f2f div.sk-dashed-wrapped {border: 1px dashed gray;margin: 0.2em;box-sizing: border-box;padding-bottom: 0.1em;background-color: white;position: relative;}#sk-e91515fa-e389-4dfb-94c2-895c75545f2f div.sk-label label {font-family: monospace;font-weight: bold;background-color: white;display: inline-block;line-height: 1.2em;}#sk-e91515fa-e389-4dfb-94c2-895c75545f2f div.sk-label-container {position: relative;z-index: 2;text-align: center;}#sk-e91515fa-e389-4dfb-94c2-895c75545f2f div.sk-container {display: inline-block;position: relative;}</style><div id=\"sk-e91515fa-e389-4dfb-94c2-895c75545f2f\" class\"sk-top-container\"><div class=\"sk-container\"><div class=\"sk-item sk-dashed-wrapped\"><div class=\"sk-label-container\"><div class=\"sk-label sk-toggleable\"><input class=\"sk-toggleable__control sk-hidden--visually\" id=\"cda6b78c-3c6a-4b1f-a309-d381ae5e22a9\" type=\"checkbox\" ><label class=\"sk-toggleable__label\" for=\"cda6b78c-3c6a-4b1f-a309-d381ae5e22a9\">Pipeline</label><div class=\"sk-toggleable__content\"><pre>Pipeline(steps=[('preprocessor',\n",
       "                 ColumnTransformer(transformers=[('num', StandardScaler(),\n",
       "                                                  ['sqft_living', 'sqft_lot',\n",
       "                                                   'sqft_above',\n",
       "                                                   'sqft_basement', 'lat',\n",
       "                                                   'long', 'sqft_living15',\n",
       "                                                   'sqft_lot15']),\n",
       "                                                 ('cat',\n",
       "                                                  OneHotEncoder(handle_unknown='ignore'),\n",
       "                                                  ['bedrooms', 'bathrooms',\n",
       "                                                   'floors', 'waterfront',\n",
       "                                                   'view', 'condition', 'grade',\n",
       "                                                   'yr_built', 'yr_renovated',\n",
       "                                                   'zipcode'])])),\n",
       "                ('classifier',\n",
       "                 LogisticRegression(C=1, max_iter=2000, solver='saga'))])</pre></div></div></div><div class=\"sk-serial\"><div class=\"sk-item sk-dashed-wrapped\"><div class=\"sk-label-container\"><div class=\"sk-label sk-toggleable\"><input class=\"sk-toggleable__control sk-hidden--visually\" id=\"f242186b-1161-411d-b268-1e523a259038\" type=\"checkbox\" ><label class=\"sk-toggleable__label\" for=\"f242186b-1161-411d-b268-1e523a259038\">preprocessor: ColumnTransformer</label><div class=\"sk-toggleable__content\"><pre>ColumnTransformer(transformers=[('num', StandardScaler(),\n",
       "                                 ['sqft_living', 'sqft_lot', 'sqft_above',\n",
       "                                  'sqft_basement', 'lat', 'long',\n",
       "                                  'sqft_living15', 'sqft_lot15']),\n",
       "                                ('cat', OneHotEncoder(handle_unknown='ignore'),\n",
       "                                 ['bedrooms', 'bathrooms', 'floors',\n",
       "                                  'waterfront', 'view', 'condition', 'grade',\n",
       "                                  'yr_built', 'yr_renovated', 'zipcode'])])</pre></div></div></div><div class=\"sk-parallel\"><div class=\"sk-parallel-item\"><div class=\"sk-item\"><div class=\"sk-label-container\"><div class=\"sk-label sk-toggleable\"><input class=\"sk-toggleable__control sk-hidden--visually\" id=\"6eb45151-249b-4989-a7eb-5aa4adbb2175\" type=\"checkbox\" ><label class=\"sk-toggleable__label\" for=\"6eb45151-249b-4989-a7eb-5aa4adbb2175\">num</label><div class=\"sk-toggleable__content\"><pre>['sqft_living', 'sqft_lot', 'sqft_above', 'sqft_basement', 'lat', 'long', 'sqft_living15', 'sqft_lot15']</pre></div></div></div><div class=\"sk-serial\"><div class=\"sk-item\"><div class=\"sk-estimator sk-toggleable\"><input class=\"sk-toggleable__control sk-hidden--visually\" id=\"4ad339c6-76d4-4fe7-bc59-4b823245750b\" type=\"checkbox\" ><label class=\"sk-toggleable__label\" for=\"4ad339c6-76d4-4fe7-bc59-4b823245750b\">StandardScaler</label><div class=\"sk-toggleable__content\"><pre>StandardScaler()</pre></div></div></div></div></div></div><div class=\"sk-parallel-item\"><div class=\"sk-item\"><div class=\"sk-label-container\"><div class=\"sk-label sk-toggleable\"><input class=\"sk-toggleable__control sk-hidden--visually\" id=\"4fc2c06a-f0cd-4f08-af84-98254f35519a\" type=\"checkbox\" ><label class=\"sk-toggleable__label\" for=\"4fc2c06a-f0cd-4f08-af84-98254f35519a\">cat</label><div class=\"sk-toggleable__content\"><pre>['bedrooms', 'bathrooms', 'floors', 'waterfront', 'view', 'condition', 'grade', 'yr_built', 'yr_renovated', 'zipcode']</pre></div></div></div><div class=\"sk-serial\"><div class=\"sk-item\"><div class=\"sk-estimator sk-toggleable\"><input class=\"sk-toggleable__control sk-hidden--visually\" id=\"41f78c41-4806-4990-9a80-8fcf7ce50fc2\" type=\"checkbox\" ><label class=\"sk-toggleable__label\" for=\"41f78c41-4806-4990-9a80-8fcf7ce50fc2\">OneHotEncoder</label><div class=\"sk-toggleable__content\"><pre>OneHotEncoder(handle_unknown='ignore')</pre></div></div></div></div></div></div></div></div><div class=\"sk-item\"><div class=\"sk-estimator sk-toggleable\"><input class=\"sk-toggleable__control sk-hidden--visually\" id=\"48ff1d57-58cf-4ea4-a850-2a8e1b59ae48\" type=\"checkbox\" ><label class=\"sk-toggleable__label\" for=\"48ff1d57-58cf-4ea4-a850-2a8e1b59ae48\">LogisticRegression</label><div class=\"sk-toggleable__content\"><pre>LogisticRegression(C=1, max_iter=2000, solver='saga')</pre></div></div></div></div></div></div></div>"
      ],
      "text/plain": [
       "Pipeline(steps=[('preprocessor',\n",
       "                 ColumnTransformer(transformers=[('num', StandardScaler(),\n",
       "                                                  ['sqft_living', 'sqft_lot',\n",
       "                                                   'sqft_above',\n",
       "                                                   'sqft_basement', 'lat',\n",
       "                                                   'long', 'sqft_living15',\n",
       "                                                   'sqft_lot15']),\n",
       "                                                 ('cat',\n",
       "                                                  OneHotEncoder(handle_unknown='ignore'),\n",
       "                                                  ['bedrooms', 'bathrooms',\n",
       "                                                   'floors', 'waterfront',\n",
       "                                                   'view', 'condition', 'grade',\n",
       "                                                   'yr_built', 'yr_renovated',\n",
       "                                                   'zipcode'])])),\n",
       "                ('classifier',\n",
       "                 LogisticRegression(C=1, max_iter=2000, solver='saga'))])"
      ]
     },
     "execution_count": 41,
     "metadata": {},
     "output_type": "execute_result"
    }
   ],
   "source": [
    "from sklearn import set_config\n",
    "\n",
    "set_config(display='diagram')\n",
    "clf"
   ]
  },
  {
   "cell_type": "markdown",
   "id": "9d9d8aa8",
   "metadata": {},
   "source": [
    "# Null Model\n"
   ]
  },
  {
   "cell_type": "code",
   "execution_count": 42,
   "id": "8f32a935",
   "metadata": {},
   "outputs": [
    {
     "name": "stdout",
     "output_type": "stream",
     "text": [
      "Training score: 0.933\n",
      "Test score: 0.924\n"
     ]
    }
   ],
   "source": [
    "dummy_clf = DummyClassifier(strategy=\"constant\",constant=[0])\n",
    "dummy_clf.fit(X, y)\n",
    "\n",
    "print(f\"Training score: {dummy_clf.score(X_train, y_train):.3f}\")\n",
    "print(f\"Test score: {dummy_clf.score(X_test, y_test):.3f}\")"
   ]
  },
  {
   "cell_type": "code",
   "execution_count": 43,
   "id": "73deb9f9",
   "metadata": {},
   "outputs": [],
   "source": [
    "def display_confusion_matrix(model):\n",
    "    titles_options = [(\"Confusion matrix for train, without normalization\", None),\n",
    "                      (\"Normalized confusion matrix for train\", 'true')]\n",
    "\n",
    "    class_names = model['classifier'].classes_\n",
    "\n",
    "    for title, normalize in titles_options:\n",
    "        disp = plot_confusion_matrix(model, X_train, y_train,\n",
    "                                     display_labels=class_names,\n",
    "                                     cmap=plt.cm.Blues,\n",
    "                                     normalize=normalize)\n",
    "        disp.ax_.set_title(title)\n",
    "\n",
    "        print(title)\n",
    "        print(disp.confusion_matrix)\n",
    "\n",
    "    plt.show()"
   ]
  },
  {
   "cell_type": "markdown",
   "id": "80062e05",
   "metadata": {},
   "source": [
    "# Model 1: Ridge regression with C=1.0"
   ]
  },
  {
   "cell_type": "code",
   "execution_count": 44,
   "id": "81e0ecaa",
   "metadata": {},
   "outputs": [
    {
     "name": "stdout",
     "output_type": "stream",
     "text": [
      "Training score: 0.977\n",
      "Test score: 0.970\n"
     ]
    }
   ],
   "source": [
    "# Classifier model\n",
    "clf_model_l2_c1 = LogisticRegression(penalty='l2', C=1.0, solver='saga', max_iter=2000)\n",
    "\n",
    "# Append classifier to preprocessing pipeline.\n",
    "# Now we have a full prediction pipeline.\n",
    "clf_l2_c1 = Pipeline(steps=[('preprocessor', preprocessor),\n",
    "                      ('classifier', clf_model_l2_c1)])\n",
    "\n",
    "# Fit model on new training data - notice that clf is actually the Pipeline\n",
    "clf_l2_c1.fit(X_train, y_train)\n",
    "\n",
    "print(f\"Training score: {clf_l2_c1.score(X_train, y_train):.3f}\")\n",
    "print(f\"Test score: {clf_l2_c1.score(X_test, y_test):.3f}\")"
   ]
  },
  {
   "cell_type": "code",
   "execution_count": 45,
   "id": "3b8ba856",
   "metadata": {},
   "outputs": [
    {
     "name": "stdout",
     "output_type": "stream",
     "text": [
      "Confusion matrix for train, without normalization\n",
      "[[16013   114]\n",
      " [  285   878]]\n",
      "Normalized confusion matrix for train\n",
      "[[0.99293111 0.00706889]\n",
      " [0.24505589 0.75494411]]\n"
     ]
    },
    {
     "data": {
      "image/png": "[encoded data removed]",
      "text/plain": [
       "<Figure size 432x288 with 2 Axes>"
      ]
     },
     "metadata": {
      "needs_background": "light"
     },
     "output_type": "display_data"
    },
    {
     "data": {
      "image/png": "[encoded data removed]",
      "text/plain": [
       "<Figure size 432x288 with 2 Axes>"
      ]
     },
     "metadata": {
      "needs_background": "light"
     },
     "output_type": "display_data"
    }
   ],
   "source": [
    "display_confusion_matrix(clf_l2_c1)"
   ]
  },
  {
   "cell_type": "code",
   "execution_count": 46,
   "id": "7d1c71b9",
   "metadata": {},
   "outputs": [
    {
     "data": {
      "text/plain": [
       "(1, 334)"
      ]
     },
     "execution_count": 46,
     "metadata": {},
     "output_type": "execute_result"
    }
   ],
   "source": [
    "clf_l2_c1.named_steps['classifier'].coef_.shape"
   ]
  },
  {
   "cell_type": "code",
   "execution_count": 60,
   "id": "de9e6013",
   "metadata": {},
   "outputs": [
    {
     "data": {
      "text/plain": [
       "array([ 6.98085393e-01,  1.46484974e-01,  7.30131984e-01,  8.42704204e-02,\n",
       "        1.28023368e+00, -9.83565116e-01,  4.81356114e-01,  3.68200333e-03,\n",
       "        9.01317860e-02,  3.64290645e-02,  3.24314215e-01,  3.47755772e-01,\n",
       "        2.44415955e-01,  2.60018111e-01, -3.96130163e-01, -1.59995594e+00,\n",
       "       -1.25154221e-01, -8.13214335e-02, -3.85308350e-02,  9.09183805e-02,\n",
       "       -1.68306249e-03, -2.80403318e-01, -5.42854168e-01,  7.48901330e-01,\n",
       "       -2.35848382e-01, -5.11366650e-01, -6.07054603e-01,  5.46230415e-02,\n",
       "       -3.21182237e-01, -2.36549168e-01,  1.14713359e-01,  3.05187440e-01,\n",
       "        1.84782697e-01,  4.72788640e-01,  5.49566997e-01,  6.25974706e-02,\n",
       "       -2.68309014e-01, -9.28451840e-02,  3.22073339e-01,  3.91694637e-01,\n",
       "        7.92888951e-02, -6.09510285e-02, -6.71033303e-01,  2.12471290e-05,\n",
       "        1.59224137e-01, -6.22148727e-01, -2.21805683e-02,  1.09594235e-07,\n",
       "        5.39261526e-02, -7.02192026e-03, -3.15448719e-01, -1.46265746e-01,\n",
       "       -4.87193076e-01, -3.60243838e-02, -2.12304938e+00,  1.18502168e+00,\n",
       "       -1.49118730e+00, -4.30613567e-01, -5.49156637e-01,  4.53150067e-01,\n",
       "        1.07977974e+00, -1.64357325e-01,  2.40121454e-02, -9.55353485e-01,\n",
       "       -3.56428027e-01,  5.14098999e-01, -8.83395323e-05, -7.39327278e-05,\n",
       "       -1.16755586e-02, -6.63059418e-01, -1.15313954e+00, -2.49871835e+00,\n",
       "       -1.18341468e+00, -1.78790516e-01,  6.80630293e-01,  1.77948367e+00,\n",
       "        2.00165159e+00,  2.89167090e-01, -1.98959453e-01, -2.61713095e-01,\n",
       "       -1.95097661e-01,  6.19415868e-02,  1.76502257e-01,  8.84798018e-01,\n",
       "        3.39119034e-01, -2.86124160e-01, -2.84097206e-01,  1.66844196e-01,\n",
       "        1.48409734e-01,  3.41925032e-01,  3.41821272e-01,  4.79719118e-01,\n",
       "       -7.43394411e-02, -6.75997971e-02,  5.04512219e-02, -4.43167546e-01,\n",
       "        4.40572529e-01,  3.89609552e-01, -2.38465532e-02, -1.48805014e-01,\n",
       "        6.20611072e-01,  1.98881025e-01,  9.84514634e-01,  4.37241423e-01,\n",
       "        1.99549053e-01,  3.68229875e-01,  4.58323464e-01, -5.41398100e-01,\n",
       "       -6.01926164e-01, -3.90053169e-01,  9.53679634e-02,  7.78709664e-02,\n",
       "        2.11128834e-01, -3.36982937e-01, -5.13072634e-02,  7.31680682e-02,\n",
       "       -3.91844488e-01,  9.14215772e-01, -4.45555957e-03,  1.11277847e+00,\n",
       "        5.93774561e-02, -1.36791103e-01, -5.44443988e-01, -3.77428156e-01,\n",
       "        7.61971575e-01,  9.15220450e-02, -1.42797639e-01,  6.48875532e-01,\n",
       "        5.70091245e-01, -2.47319439e-01,  1.01743084e-01, -2.25780851e-01,\n",
       "       -4.69500477e-01,  2.78979940e-01,  1.48661595e-01,  1.80478124e-02,\n",
       "        3.14649143e-01,  2.92102134e-01, -2.19357482e-01, -3.74714796e-01,\n",
       "       -1.63078292e-01,  5.44186195e-02,  9.74496763e-02,  3.66928351e-01,\n",
       "       -6.48476096e-01,  2.74847757e-01, -4.70605800e-01,  3.53769591e-01,\n",
       "        2.41082867e-01, -2.48838839e-01,  1.50868346e-01, -1.38274054e-01,\n",
       "       -4.00754654e-01, -3.13210878e-01, -5.48109291e-01, -7.40069442e-01,\n",
       "       -6.31480301e-01, -1.06574931e+00, -4.90384085e-01, -6.73791163e-01,\n",
       "       -7.89572730e-02, -2.32499053e-01, -7.71270062e-01, -7.08332910e-01,\n",
       "       -1.16607963e+00, -4.01740441e-01, -1.96965450e-01,  3.31612248e-01,\n",
       "       -6.24856538e-01, -3.18628368e-02, -1.07741061e+00, -4.26048125e-01,\n",
       "       -4.19619734e-01,  6.41928991e-01, -6.16238109e-02, -4.44681967e-02,\n",
       "       -5.28499040e-02,  7.35702323e-01, -8.84653385e-02,  3.14210978e-01,\n",
       "        3.10918728e-01, -1.83529933e-01, -3.11571653e-01, -6.49113931e-02,\n",
       "        4.78111897e-01,  5.12439257e-01,  6.89758266e-01, -4.25373355e-01,\n",
       "       -5.06972642e-01,  3.14076515e-01,  6.76888779e-01,  3.26141710e-01,\n",
       "        7.06641461e-01,  7.26428454e-02, -8.29956388e-01, -8.22301636e-03,\n",
       "       -1.59255295e-03, -7.83528261e-03, -3.68766351e-03, -1.89077742e-03,\n",
       "       -3.01067155e-04, -1.18182768e-05, -8.12793920e-05, -3.82297460e-03,\n",
       "       -2.35217105e-03, -4.40468748e-03,  1.99870144e-01, -5.53667172e-03,\n",
       "        2.49931845e-01, -2.88843162e-03,  5.15840369e-01, -4.02526377e-01,\n",
       "        1.58201797e-02, -4.43900994e-03,  2.65193888e-02, -2.08121853e-04,\n",
       "        1.10100814e-01, -2.52414516e-01, -1.62421483e-01, -8.57676284e-03,\n",
       "        4.02430966e-02, -1.69714794e-02, -6.11230620e-03, -5.12129535e-03,\n",
       "       -3.80823209e-02, -4.96971425e-02, -1.59939303e-02, -1.01847947e-01,\n",
       "       -3.76149233e-02, -2.98597324e-02, -1.93913207e-01, -8.41121733e-02,\n",
       "       -1.24454450e-02, -5.12776471e-01,  1.48867990e-01,  3.51737954e-01,\n",
       "       -1.03537006e-01,  3.78284905e-01, -5.83173385e-01,  2.24005504e-01,\n",
       "        1.01608570e-01, -2.76694452e-01, -2.26461473e-01, -6.67256776e-01,\n",
       "       -2.84202326e-01,  2.95527373e-01, -2.42936045e-01,  1.16057030e-01,\n",
       "       -7.69224660e-01,  2.85715132e-02,  6.30536571e-02,  1.93937450e-01,\n",
       "        5.18346978e-01,  1.02977170e-01,  5.21236298e-01,  9.44041538e-03,\n",
       "        3.80851375e-01, -3.36956399e-01,  1.10802824e+00, -3.82655160e-01,\n",
       "       -5.80756523e-02,  3.92072414e-01,  6.61156513e-01, -9.53222115e-01,\n",
       "       -4.29059744e-01, -1.42541337e-02, -1.16069022e+00,  4.46606642e+00,\n",
       "        4.07281562e-01,  1.36899583e+00,  3.12797301e-01,  6.01404610e-01,\n",
       "       -7.28089846e-02, -2.53957270e+00, -8.98316007e-01, -1.14418228e+00,\n",
       "       -1.03788074e-01, -1.47620336e+00,  6.98747863e-01, -4.30107340e-01,\n",
       "       -1.67247631e+00,  6.40674802e-01, -1.30527893e-01, -4.05310739e-01,\n",
       "       -1.25023775e-01,  1.48011608e+00, -8.70070221e-01,  5.94179126e-01,\n",
       "        4.07949875e+00,  2.42689174e+00, -7.36842474e-01,  6.70915242e-01,\n",
       "       -8.37741309e-01, -4.21471852e-01, -3.62323507e-01, -6.80031380e-01,\n",
       "       -6.04402082e-01, -5.00833973e-02, -2.01805679e-01, -1.89103418e+00,\n",
       "       -1.33446053e+00, -7.73064181e-01,  4.13938607e-02, -1.82636775e+00,\n",
       "       -7.26031737e-01,  2.11257443e+00,  1.19183135e+00,  2.30694542e+00,\n",
       "       -5.58370236e-01, -1.07018192e-01, -4.49424763e-01,  1.93466393e+00,\n",
       "        3.51372938e+00,  8.60484215e-01,  8.12105102e-02, -6.59948266e-01,\n",
       "       -3.96388292e-01,  1.81938558e+00,  1.46482602e+00, -1.37575287e+00,\n",
       "       -9.49867434e-01, -1.30353475e+00, -1.35944372e-01,  9.73081649e-01,\n",
       "       -6.53645754e-01, -1.55172694e-02, -1.83861174e+00, -1.12834362e+00,\n",
       "       -3.43178272e-01, -1.65929510e+00, -7.47683918e-01, -3.60138223e-01,\n",
       "       -1.05671151e+00,  6.71703069e-01])"
      ]
     },
     "execution_count": 60,
     "metadata": {},
     "output_type": "execute_result"
    }
   ],
   "source": [
    "clf_l2_c1.steps[1][1].coef_[0]"
   ]
  },
  {
   "cell_type": "code",
   "execution_count": 50,
   "id": "049642cd",
   "metadata": {},
   "outputs": [],
   "source": [
    "%matplotlib inline"
   ]
  },
  {
   "cell_type": "code",
   "execution_count": 66,
   "id": "1ca732cc",
   "metadata": {},
   "outputs": [
    {
     "data": {
      "text/plain": [
       "[<matplotlib.lines.Line2D at 0x2c41ff28310>]"
      ]
     },
     "execution_count": 66,
     "metadata": {},
     "output_type": "execute_result"
    },
    {
     "data": {
      "image/png": "[encoded data removed]",
      "text/plain": [
       "<Figure size 432x288 with 1 Axes>"
      ]
     },
     "metadata": {
      "needs_background": "light"
     },
     "output_type": "display_data"
    }
   ],
   "source": [
    "plt.title('L2, C=1.0')\n",
    "plt.plot(clf_l2_c1.steps[1][1].coef_[0])"
   ]
  },
  {
   "cell_type": "markdown",
   "id": "0348fd26",
   "metadata": {},
   "source": [
    "# Model 2"
   ]
  },
  {
   "cell_type": "code",
   "execution_count": 22,
   "id": "2e0319c4",
   "metadata": {},
   "outputs": [
    {
     "name": "stdout",
     "output_type": "stream",
     "text": [
      "Training score: 0.978\n",
      "Test score: 0.971\n"
     ]
    }
   ],
   "source": [
    "# Classifier model\n",
    "clf_model_l1_c1 = LogisticRegression(penalty='l1', C=1, solver='saga', max_iter=2000)\n",
    "\n",
    "# Append classifier to preprocessing pipeline.\n",
    "# Now we have a full prediction pipeline.\n",
    "clf_l1_c1 = Pipeline(steps=[('preprocessor', preprocessor),\n",
    "                      ('classifier', clf_model_l1_c1)])\n",
    "\n",
    "# Fit model on new training data - notice that clf is actually the Pipeline\n",
    "clf_l1_c1.fit(X_train, y_train)\n",
    "\n",
    "print(f\"Training score: {clf_l1_c1.score(X_train, y_train):.3f}\")\n",
    "print(f\"Test score: {clf_l1_c1.score(X_test, y_test):.3f}\")"
   ]
  },
  {
   "cell_type": "code",
   "execution_count": 67,
   "id": "8fd54f61",
   "metadata": {},
   "outputs": [
    {
     "data": {
      "text/plain": [
       "[<matplotlib.lines.Line2D at 0x2c4202721c0>]"
      ]
     },
     "execution_count": 67,
     "metadata": {},
     "output_type": "execute_result"
    },
    {
     "data": {
      "image/png": "[encoded data removed]",
      "text/plain": [
       "<Figure size 432x288 with 1 Axes>"
      ]
     },
     "metadata": {
      "needs_background": "light"
     },
     "output_type": "display_data"
    }
   ],
   "source": [
    "plt.title('L,1 C=1.0')\n",
    "plt.plot(clf_l1_c1.steps[1][1].coef_[0])"
   ]
  },
  {
   "cell_type": "markdown",
   "id": "735fbcef",
   "metadata": {},
   "source": [
    "# Model 3\n"
   ]
  },
  {
   "cell_type": "code",
   "execution_count": 23,
   "id": "8400b85d",
   "metadata": {},
   "outputs": [
    {
     "name": "stdout",
     "output_type": "stream",
     "text": [
      "Training score: 0.953\n",
      "Test score: 0.948\n"
     ]
    },
    {
     "name": "stderr",
     "output_type": "stream",
     "text": [
      "C:\\Users\\Students\\anaconda3\\lib\\site-packages\\sklearn\\linear_model\\_sag.py:328: ConvergenceWarning: The max_iter was reached which means the coef_ did not converge\n",
      "  warnings.warn(\"The max_iter was reached which means \"\n"
     ]
    }
   ],
   "source": [
    "# Classifier model\n",
    "clf_model_l1_01 = LogisticRegression(penalty='l1', C=.01, solver='saga', max_iter=2000)\n",
    "\n",
    "# Append classifier to preprocessing pipeline.\n",
    "# Now we have a full prediction pipeline.\n",
    "clf_l1_01 = Pipeline(steps=[('preprocessor', preprocessor),\n",
    "                      ('classifier', clf_model_l1_01)])\n",
    "\n",
    "# Fit model on new training data - notice that clf is actually the Pipeline\n",
    "clf_l1_01.fit(X_train, y_train)\n",
    "\n",
    "print(f\"Training score: {clf_l1_01.score(X_train, y_train):.3f}\")\n",
    "print(f\"Test score: {clf_l1_01.score(X_test, y_test):.3f}\")"
   ]
  },
  {
   "cell_type": "code",
   "execution_count": 68,
   "id": "872333e0",
   "metadata": {},
   "outputs": [
    {
     "data": {
      "text/plain": [
       "[<matplotlib.lines.Line2D at 0x2c422512580>]"
      ]
     },
     "execution_count": 68,
     "metadata": {},
     "output_type": "execute_result"
    },
    {
     "data": {
      "image/png": "[encoded data removed]",
      "text/plain": [
       "<Figure size 432x288 with 1 Axes>"
      ]
     },
     "metadata": {
      "needs_background": "light"
     },
     "output_type": "display_data"
    }
   ],
   "source": [
    "plt.title('L1, C=0.01')\n",
    "plt.plot(clf_l1_01.steps[1][1].coef_[0])"
   ]
  },
  {
   "cell_type": "markdown",
   "id": "d5abe3c1",
   "metadata": {},
   "source": [
    "The coeffecient plot for model 3 has lesser noise than compared with that of model 1 and model 2. This is mainly because the low value of C."
   ]
  },
  {
   "cell_type": "markdown",
   "id": "ab9a2cb3",
   "metadata": {},
   "source": [
    "# Model 4: Lasso regression with optimal C value"
   ]
  },
  {
   "cell_type": "code",
   "execution_count": 142,
   "id": "5072a789",
   "metadata": {},
   "outputs": [
    {
     "name": "stderr",
     "output_type": "stream",
     "text": [
      "C:\\Users\\Students\\anaconda3\\lib\\site-packages\\sklearn\\linear_model\\_sag.py:328: ConvergenceWarning: The max_iter was reached which means the coef_ did not converge\n",
      "  warnings.warn(\"The max_iter was reached which means \"\n",
      "C:\\Users\\Students\\anaconda3\\lib\\site-packages\\sklearn\\linear_model\\_sag.py:328: ConvergenceWarning: The max_iter was reached which means the coef_ did not converge\n",
      "  warnings.warn(\"The max_iter was reached which means \"\n",
      "C:\\Users\\Students\\anaconda3\\lib\\site-packages\\sklearn\\linear_model\\_sag.py:328: ConvergenceWarning: The max_iter was reached which means the coef_ did not converge\n",
      "  warnings.warn(\"The max_iter was reached which means \"\n",
      "C:\\Users\\Students\\anaconda3\\lib\\site-packages\\sklearn\\linear_model\\_sag.py:328: ConvergenceWarning: The max_iter was reached which means the coef_ did not converge\n",
      "  warnings.warn(\"The max_iter was reached which means \"\n",
      "C:\\Users\\Students\\anaconda3\\lib\\site-packages\\sklearn\\linear_model\\_sag.py:328: ConvergenceWarning: The max_iter was reached which means the coef_ did not converge\n",
      "  warnings.warn(\"The max_iter was reached which means \"\n",
      "C:\\Users\\Students\\anaconda3\\lib\\site-packages\\sklearn\\linear_model\\_sag.py:328: ConvergenceWarning: The max_iter was reached which means the coef_ did not converge\n",
      "  warnings.warn(\"The max_iter was reached which means \"\n",
      "C:\\Users\\Students\\anaconda3\\lib\\site-packages\\sklearn\\linear_model\\_sag.py:328: ConvergenceWarning: The max_iter was reached which means the coef_ did not converge\n",
      "  warnings.warn(\"The max_iter was reached which means \"\n",
      "C:\\Users\\Students\\anaconda3\\lib\\site-packages\\sklearn\\linear_model\\_sag.py:328: ConvergenceWarning: The max_iter was reached which means the coef_ did not converge\n",
      "  warnings.warn(\"The max_iter was reached which means \"\n",
      "C:\\Users\\Students\\anaconda3\\lib\\site-packages\\sklearn\\linear_model\\_sag.py:328: ConvergenceWarning: The max_iter was reached which means the coef_ did not converge\n",
      "  warnings.warn(\"The max_iter was reached which means \"\n",
      "C:\\Users\\Students\\anaconda3\\lib\\site-packages\\sklearn\\linear_model\\_sag.py:328: ConvergenceWarning: The max_iter was reached which means the coef_ did not converge\n",
      "  warnings.warn(\"The max_iter was reached which means \"\n",
      "C:\\Users\\Students\\anaconda3\\lib\\site-packages\\sklearn\\linear_model\\_sag.py:328: ConvergenceWarning: The max_iter was reached which means the coef_ did not converge\n",
      "  warnings.warn(\"The max_iter was reached which means \"\n",
      "C:\\Users\\Students\\anaconda3\\lib\\site-packages\\sklearn\\linear_model\\_sag.py:328: ConvergenceWarning: The max_iter was reached which means the coef_ did not converge\n",
      "  warnings.warn(\"The max_iter was reached which means \"\n",
      "C:\\Users\\Students\\anaconda3\\lib\\site-packages\\sklearn\\linear_model\\_sag.py:328: ConvergenceWarning: The max_iter was reached which means the coef_ did not converge\n",
      "  warnings.warn(\"The max_iter was reached which means \"\n",
      "C:\\Users\\Students\\anaconda3\\lib\\site-packages\\sklearn\\linear_model\\_sag.py:328: ConvergenceWarning: The max_iter was reached which means the coef_ did not converge\n",
      "  warnings.warn(\"The max_iter was reached which means \"\n",
      "C:\\Users\\Students\\anaconda3\\lib\\site-packages\\sklearn\\linear_model\\_sag.py:328: ConvergenceWarning: The max_iter was reached which means the coef_ did not converge\n",
      "  warnings.warn(\"The max_iter was reached which means \"\n",
      "C:\\Users\\Students\\anaconda3\\lib\\site-packages\\sklearn\\linear_model\\_sag.py:328: ConvergenceWarning: The max_iter was reached which means the coef_ did not converge\n",
      "  warnings.warn(\"The max_iter was reached which means \"\n",
      "C:\\Users\\Students\\anaconda3\\lib\\site-packages\\sklearn\\linear_model\\_sag.py:328: ConvergenceWarning: The max_iter was reached which means the coef_ did not converge\n",
      "  warnings.warn(\"The max_iter was reached which means \"\n",
      "C:\\Users\\Students\\anaconda3\\lib\\site-packages\\sklearn\\linear_model\\_sag.py:328: ConvergenceWarning: The max_iter was reached which means the coef_ did not converge\n",
      "  warnings.warn(\"The max_iter was reached which means \"\n",
      "C:\\Users\\Students\\anaconda3\\lib\\site-packages\\sklearn\\linear_model\\_sag.py:328: ConvergenceWarning: The max_iter was reached which means the coef_ did not converge\n",
      "  warnings.warn(\"The max_iter was reached which means \"\n",
      "C:\\Users\\Students\\anaconda3\\lib\\site-packages\\sklearn\\linear_model\\_sag.py:328: ConvergenceWarning: The max_iter was reached which means the coef_ did not converge\n",
      "  warnings.warn(\"The max_iter was reached which means \"\n"
     ]
    },
    {
     "name": "stdout",
     "output_type": "stream",
     "text": [
      "Best model score for Lasso : {1: array([[0.96587623, 0.97165992, 0.9719491 , 0.97223829],\n",
      "       [0.96616541, 0.97079237, 0.97079237, 0.97050318],\n",
      "       [0.96674378, 0.97137073, 0.97223829, 0.97310584],\n",
      "       [0.96674378, 0.9719491 , 0.97513013, 0.97513013],\n",
      "       [0.96818971, 0.970214  , 0.97108155, 0.9719491 ]])}\n",
      "Best C Value is : [10.]\n"
     ]
    },
    {
     "name": "stderr",
     "output_type": "stream",
     "text": [
      "C:\\Users\\Students\\anaconda3\\lib\\site-packages\\sklearn\\linear_model\\_sag.py:328: ConvergenceWarning: The max_iter was reached which means the coef_ did not converge\n",
      "  warnings.warn(\"The max_iter was reached which means \"\n"
     ]
    }
   ],
   "source": [
    "# Classifier model using saga\n",
    "lr_clf = Pipeline(steps=[('preprocessor', preprocessor),\n",
    "                             ('classifier', LogisticRegressionCV(penalty='l1', \n",
    "                                                                 Cs=[0.1, 1,5, 10], \n",
    "                                                                 solver='saga',\n",
    "                                                                 max_iter=200))])\n",
    "\n",
    "lr_clf.fit(X_train, y_train)\n",
    "\n",
    "\n",
    "\n",
    "print(f\"Best model score for Lasso : {lr_clf['classifier'].scores_}\")\n",
    "print(f\"Best C Value is : {lr_clf['classifier'].C_}\")\n",
    "\n",
    "\n"
   ]
  },
  {
   "cell_type": "code",
   "execution_count": 69,
   "id": "c4b2f4ce",
   "metadata": {},
   "outputs": [
    {
     "data": {
      "text/plain": [
       "[<matplotlib.lines.Line2D at 0x2c422579b80>]"
      ]
     },
     "execution_count": 69,
     "metadata": {},
     "output_type": "execute_result"
    },
    {
     "data": {
      "image/png": "[encoded data removed]",
      "text/plain": [
       "<Figure size 432x288 with 1 Axes>"
      ]
     },
     "metadata": {
      "needs_background": "light"
     },
     "output_type": "display_data"
    }
   ],
   "source": [
    "plt.title('L1, Optimal C')\n",
    "plt.plot(lr_clf.steps[1][1].coef_[0])"
   ]
  },
  {
   "cell_type": "code",
   "execution_count": 84,
   "id": "e10196ad",
   "metadata": {},
   "outputs": [
    {
     "name": "stdout",
     "output_type": "stream",
     "text": [
      "Best model score for Lasso : {1: array([[0.96674378, 0.97310584, 0.97137073, 0.97108155],\n",
      "       [0.96616541, 0.97108155, 0.96876807, 0.96992481],\n",
      "       [0.96703297, 0.97310584, 0.97252747, 0.97281666],\n",
      "       [0.9664546 , 0.97455176, 0.97541932, 0.97484095],\n",
      "       [0.96876807, 0.97223829, 0.97108155, 0.96992481]])}\n",
      "Best C Value is : [1.]\n"
     ]
    }
   ],
   "source": [
    "# Classifier model using liblinear\n",
    "lr_clf = Pipeline(steps=[('preprocessor', preprocessor),\n",
    "                             ('classifier', LogisticRegressionCV(penalty='l1', \n",
    "                                                                 Cs=[0.1, 1,5, 10], \n",
    "                                                                 solver='liblinear',\n",
    "                                                                 max_iter=200))])\n",
    "\n",
    "lr_clf.fit(X_train, y_train)\n",
    "\n",
    "\n",
    "\n",
    "print(f\"Best model score for Lasso : {lr_clf['classifier'].scores_}\")\n",
    "print(f\"Best C Value is : {lr_clf['classifier'].C_}\")"
   ]
  },
  {
   "cell_type": "markdown",
   "id": "37121954",
   "metadata": {},
   "source": [
    "# Task 5 - Random forest model"
   ]
  },
  {
   "cell_type": "code",
   "execution_count": 25,
   "id": "3ee726a0",
   "metadata": {},
   "outputs": [
    {
     "name": "stdout",
     "output_type": "stream",
     "text": [
      "Training score: 1.000\n",
      "Test score: 0.970\n"
     ]
    }
   ],
   "source": [
    "# Append random forest classifier to preprocessing pipeline.\n",
    "clf_rf = Pipeline(steps=[('preprocessor', preprocessor),\n",
    "                      ('classifier', RandomForestClassifier(oob_score=True, random_state=0))])\n",
    "\n",
    "\n",
    "clf_rf.fit(X_train, y_train)\n",
    "\n",
    "print(f\"Training score: {clf_rf.score(X_train, y_train):.3f}\")\n",
    "print(f\"Test score: {clf_rf.score(X_test, y_test):.3f}\")\n",
    "\n",
    "\n"
   ]
  },
  {
   "cell_type": "code",
   "execution_count": 26,
   "id": "cb8c6677",
   "metadata": {},
   "outputs": [
    {
     "name": "stdout",
     "output_type": "stream",
     "text": [
      "Training score: 1.000\n"
     ]
    }
   ],
   "source": [
    "# Final random forest classifier model\n",
    "clf_RF_model_final = RandomForestClassifier(oob_score=True, random_state=0)\n",
    "\n",
    "# Append classifier to preprocessing pipeline.\n",
    "clf_RF_final = Pipeline(steps=[('preprocessor', preprocessor),\n",
    "                      ('classifier', clf_RF_model_final)])\n",
    "\n",
    "# Fit model on training data \n",
    "clf_RF_final.fit(X_train, y_train)\n",
    "print(\"Training score: %.3f\" % clf_RF_final.score(X_train, y_train))\n",
    "\n",
    "# Make predictions on the test data\n",
    "clf_RF_final_predictions = clf_RF_final.predict(X_test)"
   ]
  },
  {
   "cell_type": "code",
   "execution_count": 27,
   "id": "0fa9213d",
   "metadata": {},
   "outputs": [
    {
     "name": "stdout",
     "output_type": "stream",
     "text": [
      "[0 0 0 0 0 0 0 0 0 0 0 0 0 0 0 0 0 0 0 0 0 0 0 1 0 0 0 0 0 0 0 0 0 0 1 0 0\n",
      " 0 0 0 0 0 0 0 0 0 0 0 0 0 0 0 0 0 0 0 0 0 0 0 0 0 0 0 0 0 0 0 0 0 0 0 0 1\n",
      " 0 0 0 0 0 0 0 0 0 0 0 0 0 0 0 0 0 0 0 0 0 0 1 0 0 0]\n"
     ]
    }
   ],
   "source": [
    "print(clf_RF_final_predictions[:100])"
   ]
  },
  {
   "cell_type": "code",
   "execution_count": 28,
   "id": "9aba0bad",
   "metadata": {
    "scrolled": true
   },
   "outputs": [
    {
     "name": "stdout",
     "output_type": "stream",
     "text": [
      "Confusion matrix for train, without normalization\n",
      "[[16127     0]\n",
      " [    0  1163]]\n",
      "Normalized confusion matrix for train\n",
      "[[1. 0.]\n",
      " [0. 1.]]\n"
     ]
    },
    {
     "data": {
      "image/png": "[encoded data removed]",
      "text/plain": [
       "<Figure size 432x288 with 2 Axes>"
      ]
     },
     "metadata": {
      "needs_background": "light"
     },
     "output_type": "display_data"
    },
    {
     "data": {
      "image/png": "[encoded data removed]",
      "text/plain": [
       "<Figure size 432x288 with 2 Axes>"
      ]
     },
     "metadata": {
      "needs_background": "light"
     },
     "output_type": "display_data"
    }
   ],
   "source": [
    "display_confusion_matrix(clf_RF_final)"
   ]
  },
  {
   "cell_type": "markdown",
   "id": "2e950b8d",
   "metadata": {},
   "source": [
    "Random forests dont use regularizations and C values unlike the logistic regression models, Hence coeff plot need not be used in this case."
   ]
  },
  {
   "cell_type": "markdown",
   "id": "cb9d527c",
   "metadata": {},
   "source": [
    "# Task 6 - a little error exploration"
   ]
  },
  {
   "cell_type": "code",
   "execution_count": 120,
   "id": "fdc902b5",
   "metadata": {},
   "outputs": [
    {
     "name": "stdout",
     "output_type": "stream",
     "text": [
      "Training score: 0.977\n",
      "[0 0 0 0 0 0 0 0 0 0]\n"
     ]
    },
    {
     "name": "stderr",
     "output_type": "stream",
     "text": [
      "C:\\Users\\Students\\anaconda3\\lib\\site-packages\\sklearn\\linear_model\\_sag.py:328: ConvergenceWarning: The max_iter was reached which means the coef_ did not converge\n",
      "  warnings.warn(\"The max_iter was reached which means \"\n"
     ]
    }
   ],
   "source": [
    "# Final logistic regression classifier model\n",
    "clf_LR_model_final = LogisticRegression(penalty='l1', C=1, solver='saga', max_iter=500)\n",
    "\n",
    "# Append classifier to preprocessing pipeline.\n",
    "clf_LR_final = Pipeline(steps=[('preprocessor', preprocessor),\n",
    "                      ('classifier', clf_LR_model_final)])\n",
    "\n",
    "# Fit model on training data \n",
    "clf_LR_final.fit(X_train, y_train)\n",
    "print(\"Training score: %.3f\" % clf_LR_final.score(X_train, y_train))\n",
    "\n",
    "# Make predictions on the test data\n",
    "clf_LR_final_predictions = clf_LR_final.predict(X_test)\n",
    "print(clf_LR_final_predictions[:10])  # Print out a few predictions just to see what they look like\n",
    "\n",
    "\n"
   ]
  },
  {
   "cell_type": "code",
   "execution_count": 121,
   "id": "c5c9cde8",
   "metadata": {},
   "outputs": [
    {
     "data": {
      "text/plain": [
       "array([0, 0, 0, ..., 0, 0, 0], dtype=int64)"
      ]
     },
     "execution_count": 121,
     "metadata": {},
     "output_type": "execute_result"
    }
   ],
   "source": [
    "clf_LR_final_predictions"
   ]
  },
  {
   "cell_type": "code",
   "execution_count": 122,
   "id": "903b12ea",
   "metadata": {},
   "outputs": [
    {
     "data": {
      "text/plain": [
       "4323"
      ]
     },
     "execution_count": 122,
     "metadata": {},
     "output_type": "execute_result"
    }
   ],
   "source": [
    "clf_LR_final_predictions.size"
   ]
  },
  {
   "cell_type": "code",
   "execution_count": 123,
   "id": "6efe1ee3",
   "metadata": {},
   "outputs": [
    {
     "data": {
      "text/plain": [
       "13473    0\n",
       "9626     0\n",
       "21376    0\n",
       "9036     0\n",
       "1007     0\n",
       "Name: price_gt_1M, dtype: int64"
      ]
     },
     "execution_count": 123,
     "metadata": {},
     "output_type": "execute_result"
    }
   ],
   "source": [
    "y_test.head()"
   ]
  },
  {
   "cell_type": "code",
   "execution_count": 124,
   "id": "b143583c",
   "metadata": {},
   "outputs": [
    {
     "name": "stdout",
     "output_type": "stream",
     "text": [
      "<class 'pandas.core.series.Series'>\n",
      "Int64Index: 4323 entries, 13473 to 18167\n",
      "Series name: price_gt_1M\n",
      "Non-Null Count  Dtype\n",
      "--------------  -----\n",
      "4323 non-null   int64\n",
      "dtypes: int64(1)\n",
      "memory usage: 67.5 KB\n"
     ]
    }
   ],
   "source": [
    "y_test.info()"
   ]
  },
  {
   "cell_type": "code",
   "execution_count": 125,
   "id": "07c96d88",
   "metadata": {},
   "outputs": [
    {
     "data": {
      "text/html": [
       "<div>\n",
       "<style scoped>\n",
       "    .dataframe tbody tr th:only-of-type {\n",
       "        vertical-align: middle;\n",
       "    }\n",
       "\n",
       "    .dataframe tbody tr th {\n",
       "        vertical-align: top;\n",
       "    }\n",
       "\n",
       "    .dataframe thead th {\n",
       "        text-align: right;\n",
       "    }\n",
       "</style>\n",
       "<table border=\"1\" class=\"dataframe\">\n",
       "  <thead>\n",
       "    <tr style=\"text-align: right;\">\n",
       "      <th></th>\n",
       "      <th>price</th>\n",
       "    </tr>\n",
       "  </thead>\n",
       "  <tbody>\n",
       "    <tr>\n",
       "      <th>13473</th>\n",
       "      <td>0</td>\n",
       "    </tr>\n",
       "    <tr>\n",
       "      <th>9626</th>\n",
       "      <td>0</td>\n",
       "    </tr>\n",
       "    <tr>\n",
       "      <th>21376</th>\n",
       "      <td>0</td>\n",
       "    </tr>\n",
       "    <tr>\n",
       "      <th>9036</th>\n",
       "      <td>0</td>\n",
       "    </tr>\n",
       "    <tr>\n",
       "      <th>1007</th>\n",
       "      <td>0</td>\n",
       "    </tr>\n",
       "    <tr>\n",
       "      <th>...</th>\n",
       "      <td>...</td>\n",
       "    </tr>\n",
       "    <tr>\n",
       "      <th>662</th>\n",
       "      <td>0</td>\n",
       "    </tr>\n",
       "    <tr>\n",
       "      <th>16297</th>\n",
       "      <td>0</td>\n",
       "    </tr>\n",
       "    <tr>\n",
       "      <th>1390</th>\n",
       "      <td>0</td>\n",
       "    </tr>\n",
       "    <tr>\n",
       "      <th>3546</th>\n",
       "      <td>0</td>\n",
       "    </tr>\n",
       "    <tr>\n",
       "      <th>18167</th>\n",
       "      <td>0</td>\n",
       "    </tr>\n",
       "  </tbody>\n",
       "</table>\n",
       "<p>4323 rows × 1 columns</p>\n",
       "</div>"
      ],
      "text/plain": [
       "       price\n",
       "13473      0\n",
       "9626       0\n",
       "21376      0\n",
       "9036       0\n",
       "1007       0\n",
       "...      ...\n",
       "662        0\n",
       "16297      0\n",
       "1390       0\n",
       "3546       0\n",
       "18167      0\n",
       "\n",
       "[4323 rows x 1 columns]"
      ]
     },
     "execution_count": 125,
     "metadata": {},
     "output_type": "execute_result"
    }
   ],
   "source": [
    "s = pd.Series(y_test, name=\"price\")\n",
    "price_df = s.to_frame()\n",
    "price_df"
   ]
  },
  {
   "cell_type": "code",
   "execution_count": 126,
   "id": "e791dde6",
   "metadata": {},
   "outputs": [
    {
     "data": {
      "text/html": [
       "<div>\n",
       "<style scoped>\n",
       "    .dataframe tbody tr th:only-of-type {\n",
       "        vertical-align: middle;\n",
       "    }\n",
       "\n",
       "    .dataframe tbody tr th {\n",
       "        vertical-align: top;\n",
       "    }\n",
       "\n",
       "    .dataframe thead th {\n",
       "        text-align: right;\n",
       "    }\n",
       "</style>\n",
       "<table border=\"1\" class=\"dataframe\">\n",
       "  <thead>\n",
       "    <tr style=\"text-align: right;\">\n",
       "      <th></th>\n",
       "      <th>price</th>\n",
       "      <th>price_predict</th>\n",
       "    </tr>\n",
       "  </thead>\n",
       "  <tbody>\n",
       "    <tr>\n",
       "      <th>13473</th>\n",
       "      <td>0</td>\n",
       "      <td>0</td>\n",
       "    </tr>\n",
       "    <tr>\n",
       "      <th>9626</th>\n",
       "      <td>0</td>\n",
       "      <td>0</td>\n",
       "    </tr>\n",
       "    <tr>\n",
       "      <th>21376</th>\n",
       "      <td>0</td>\n",
       "      <td>0</td>\n",
       "    </tr>\n",
       "    <tr>\n",
       "      <th>9036</th>\n",
       "      <td>0</td>\n",
       "      <td>0</td>\n",
       "    </tr>\n",
       "    <tr>\n",
       "      <th>1007</th>\n",
       "      <td>0</td>\n",
       "      <td>0</td>\n",
       "    </tr>\n",
       "    <tr>\n",
       "      <th>...</th>\n",
       "      <td>...</td>\n",
       "      <td>...</td>\n",
       "    </tr>\n",
       "    <tr>\n",
       "      <th>662</th>\n",
       "      <td>0</td>\n",
       "      <td>0</td>\n",
       "    </tr>\n",
       "    <tr>\n",
       "      <th>16297</th>\n",
       "      <td>0</td>\n",
       "      <td>0</td>\n",
       "    </tr>\n",
       "    <tr>\n",
       "      <th>1390</th>\n",
       "      <td>0</td>\n",
       "      <td>0</td>\n",
       "    </tr>\n",
       "    <tr>\n",
       "      <th>3546</th>\n",
       "      <td>0</td>\n",
       "      <td>0</td>\n",
       "    </tr>\n",
       "    <tr>\n",
       "      <th>18167</th>\n",
       "      <td>0</td>\n",
       "      <td>0</td>\n",
       "    </tr>\n",
       "  </tbody>\n",
       "</table>\n",
       "<p>4323 rows × 2 columns</p>\n",
       "</div>"
      ],
      "text/plain": [
       "       price  price_predict\n",
       "13473      0              0\n",
       "9626       0              0\n",
       "21376      0              0\n",
       "9036       0              0\n",
       "1007       0              0\n",
       "...      ...            ...\n",
       "662        0              0\n",
       "16297      0              0\n",
       "1390       0              0\n",
       "3546       0              0\n",
       "18167      0              0\n",
       "\n",
       "[4323 rows x 2 columns]"
      ]
     },
     "execution_count": 126,
     "metadata": {},
     "output_type": "execute_result"
    }
   ],
   "source": [
    "price_df['price_predict'] = clf_LR_final_predictions.tolist()\n",
    "price_df"
   ]
  },
  {
   "cell_type": "code",
   "execution_count": 127,
   "id": "8b613804",
   "metadata": {},
   "outputs": [
    {
     "data": {
      "text/plain": [
       "true     4199\n",
       "false     124\n",
       "Name: compare, dtype: int64"
      ]
     },
     "execution_count": 127,
     "metadata": {},
     "output_type": "execute_result"
    }
   ],
   "source": [
    "price_df['compare'] = np.where((price_df['price'] != price_df['price_predict']) , 'false', 'true')\n",
    "price_df['compare'].value_counts()"
   ]
  },
  {
   "cell_type": "markdown",
   "id": "c5601ce2",
   "metadata": {},
   "source": [
    "Now lets read in the kc_house_data_regression.csv file and get the actual prices of the property"
   ]
  },
  {
   "cell_type": "code",
   "execution_count": 132,
   "id": "7ba628fd",
   "metadata": {},
   "outputs": [
    {
     "data": {
      "text/plain": [
       "0        221900.0\n",
       "1        538000.0\n",
       "2        180000.0\n",
       "3        604000.0\n",
       "4        510000.0\n",
       "           ...   \n",
       "21608    360000.0\n",
       "21609    400000.0\n",
       "21610    402101.0\n",
       "21611    400000.0\n",
       "21612    325000.0\n",
       "Name: price, Length: 21613, dtype: float64"
      ]
     },
     "execution_count": 132,
     "metadata": {},
     "output_type": "execute_result"
    }
   ],
   "source": [
    "housing_df_reg = pd.read_csv(\"./data/kc_house_data_regression.csv\")\n",
    "\n",
    "\n",
    "price_from_regression = housing_df_reg.iloc[:, 17]\n",
    "price_from_regression\n",
    "\n",
    "\n",
    "#price_df['actual_price'] = price_from_regression.tolist()\n",
    "#price_df"
   ]
  },
  {
   "cell_type": "code",
   "execution_count": 135,
   "id": "63051b62",
   "metadata": {},
   "outputs": [
    {
     "data": {
      "text/html": [
       "<div>\n",
       "<style scoped>\n",
       "    .dataframe tbody tr th:only-of-type {\n",
       "        vertical-align: middle;\n",
       "    }\n",
       "\n",
       "    .dataframe tbody tr th {\n",
       "        vertical-align: top;\n",
       "    }\n",
       "\n",
       "    .dataframe thead th {\n",
       "        text-align: right;\n",
       "    }\n",
       "</style>\n",
       "<table border=\"1\" class=\"dataframe\">\n",
       "  <thead>\n",
       "    <tr style=\"text-align: right;\">\n",
       "      <th></th>\n",
       "      <th>price</th>\n",
       "      <th>price_predict</th>\n",
       "      <th>compare</th>\n",
       "      <th>actual_price</th>\n",
       "    </tr>\n",
       "  </thead>\n",
       "  <tbody>\n",
       "    <tr>\n",
       "      <th>13473</th>\n",
       "      <td>0</td>\n",
       "      <td>0</td>\n",
       "      <td>true</td>\n",
       "      <td>257000.0</td>\n",
       "    </tr>\n",
       "    <tr>\n",
       "      <th>9626</th>\n",
       "      <td>0</td>\n",
       "      <td>0</td>\n",
       "      <td>true</td>\n",
       "      <td>201000.0</td>\n",
       "    </tr>\n",
       "    <tr>\n",
       "      <th>21376</th>\n",
       "      <td>0</td>\n",
       "      <td>0</td>\n",
       "      <td>true</td>\n",
       "      <td>365000.0</td>\n",
       "    </tr>\n",
       "    <tr>\n",
       "      <th>9036</th>\n",
       "      <td>0</td>\n",
       "      <td>0</td>\n",
       "      <td>true</td>\n",
       "      <td>667000.0</td>\n",
       "    </tr>\n",
       "    <tr>\n",
       "      <th>1007</th>\n",
       "      <td>0</td>\n",
       "      <td>0</td>\n",
       "      <td>true</td>\n",
       "      <td>325000.0</td>\n",
       "    </tr>\n",
       "    <tr>\n",
       "      <th>...</th>\n",
       "      <td>...</td>\n",
       "      <td>...</td>\n",
       "      <td>...</td>\n",
       "      <td>...</td>\n",
       "    </tr>\n",
       "    <tr>\n",
       "      <th>662</th>\n",
       "      <td>0</td>\n",
       "      <td>0</td>\n",
       "      <td>true</td>\n",
       "      <td>475000.0</td>\n",
       "    </tr>\n",
       "    <tr>\n",
       "      <th>16297</th>\n",
       "      <td>0</td>\n",
       "      <td>0</td>\n",
       "      <td>true</td>\n",
       "      <td>615000.0</td>\n",
       "    </tr>\n",
       "    <tr>\n",
       "      <th>1390</th>\n",
       "      <td>0</td>\n",
       "      <td>0</td>\n",
       "      <td>true</td>\n",
       "      <td>651000.0</td>\n",
       "    </tr>\n",
       "    <tr>\n",
       "      <th>3546</th>\n",
       "      <td>0</td>\n",
       "      <td>0</td>\n",
       "      <td>true</td>\n",
       "      <td>436000.0</td>\n",
       "    </tr>\n",
       "    <tr>\n",
       "      <th>18167</th>\n",
       "      <td>0</td>\n",
       "      <td>0</td>\n",
       "      <td>true</td>\n",
       "      <td>417000.0</td>\n",
       "    </tr>\n",
       "  </tbody>\n",
       "</table>\n",
       "<p>4323 rows × 4 columns</p>\n",
       "</div>"
      ],
      "text/plain": [
       "       price  price_predict compare  actual_price\n",
       "13473      0              0    true      257000.0\n",
       "9626       0              0    true      201000.0\n",
       "21376      0              0    true      365000.0\n",
       "9036       0              0    true      667000.0\n",
       "1007       0              0    true      325000.0\n",
       "...      ...            ...     ...           ...\n",
       "662        0              0    true      475000.0\n",
       "16297      0              0    true      615000.0\n",
       "1390       0              0    true      651000.0\n",
       "3546       0              0    true      436000.0\n",
       "18167      0              0    true      417000.0\n",
       "\n",
       "[4323 rows x 4 columns]"
      ]
     },
     "execution_count": 135,
     "metadata": {},
     "output_type": "execute_result"
    }
   ],
   "source": [
    "price_df['actual_price'] = price_from_regression.loc[price_from_regression.index]\n",
    "price_df"
   ]
  },
  {
   "cell_type": "code",
   "execution_count": 136,
   "id": "37f90eab",
   "metadata": {},
   "outputs": [
    {
     "data": {
      "text/html": [
       "<div>\n",
       "<style scoped>\n",
       "    .dataframe tbody tr th:only-of-type {\n",
       "        vertical-align: middle;\n",
       "    }\n",
       "\n",
       "    .dataframe tbody tr th {\n",
       "        vertical-align: top;\n",
       "    }\n",
       "\n",
       "    .dataframe thead th {\n",
       "        text-align: right;\n",
       "    }\n",
       "</style>\n",
       "<table border=\"1\" class=\"dataframe\">\n",
       "  <thead>\n",
       "    <tr style=\"text-align: right;\">\n",
       "      <th></th>\n",
       "      <th>price</th>\n",
       "      <th>price_predict</th>\n",
       "      <th>compare</th>\n",
       "      <th>actual_price</th>\n",
       "    </tr>\n",
       "  </thead>\n",
       "  <tbody>\n",
       "    <tr>\n",
       "      <th>4937</th>\n",
       "      <td>1</td>\n",
       "      <td>0</td>\n",
       "      <td>false</td>\n",
       "      <td>1400000.0</td>\n",
       "    </tr>\n",
       "    <tr>\n",
       "      <th>16888</th>\n",
       "      <td>0</td>\n",
       "      <td>1</td>\n",
       "      <td>false</td>\n",
       "      <td>995000.0</td>\n",
       "    </tr>\n",
       "    <tr>\n",
       "      <th>12591</th>\n",
       "      <td>1</td>\n",
       "      <td>0</td>\n",
       "      <td>false</td>\n",
       "      <td>1075000.0</td>\n",
       "    </tr>\n",
       "    <tr>\n",
       "      <th>11947</th>\n",
       "      <td>1</td>\n",
       "      <td>0</td>\n",
       "      <td>false</td>\n",
       "      <td>1150000.0</td>\n",
       "    </tr>\n",
       "    <tr>\n",
       "      <th>11421</th>\n",
       "      <td>1</td>\n",
       "      <td>0</td>\n",
       "      <td>false</td>\n",
       "      <td>1017000.0</td>\n",
       "    </tr>\n",
       "    <tr>\n",
       "      <th>...</th>\n",
       "      <td>...</td>\n",
       "      <td>...</td>\n",
       "      <td>...</td>\n",
       "      <td>...</td>\n",
       "    </tr>\n",
       "    <tr>\n",
       "      <th>9945</th>\n",
       "      <td>1</td>\n",
       "      <td>0</td>\n",
       "      <td>false</td>\n",
       "      <td>1150000.0</td>\n",
       "    </tr>\n",
       "    <tr>\n",
       "      <th>1807</th>\n",
       "      <td>0</td>\n",
       "      <td>1</td>\n",
       "      <td>false</td>\n",
       "      <td>930000.0</td>\n",
       "    </tr>\n",
       "    <tr>\n",
       "      <th>8539</th>\n",
       "      <td>1</td>\n",
       "      <td>0</td>\n",
       "      <td>false</td>\n",
       "      <td>1208000.0</td>\n",
       "    </tr>\n",
       "    <tr>\n",
       "      <th>4892</th>\n",
       "      <td>0</td>\n",
       "      <td>1</td>\n",
       "      <td>false</td>\n",
       "      <td>952000.0</td>\n",
       "    </tr>\n",
       "    <tr>\n",
       "      <th>21179</th>\n",
       "      <td>1</td>\n",
       "      <td>0</td>\n",
       "      <td>false</td>\n",
       "      <td>1050000.0</td>\n",
       "    </tr>\n",
       "  </tbody>\n",
       "</table>\n",
       "<p>124 rows × 4 columns</p>\n",
       "</div>"
      ],
      "text/plain": [
       "       price  price_predict compare  actual_price\n",
       "4937       1              0   false     1400000.0\n",
       "16888      0              1   false      995000.0\n",
       "12591      1              0   false     1075000.0\n",
       "11947      1              0   false     1150000.0\n",
       "11421      1              0   false     1017000.0\n",
       "...      ...            ...     ...           ...\n",
       "9945       1              0   false     1150000.0\n",
       "1807       0              1   false      930000.0\n",
       "8539       1              0   false     1208000.0\n",
       "4892       0              1   false      952000.0\n",
       "21179      1              0   false     1050000.0\n",
       "\n",
       "[124 rows x 4 columns]"
      ]
     },
     "execution_count": 136,
     "metadata": {},
     "output_type": "execute_result"
    }
   ],
   "source": [
    "price_incorrect_df = price_df[price_df['compare'] == 'false'] \n",
    "price_incorrect_df"
   ]
  },
  {
   "cell_type": "code",
   "execution_count": 138,
   "id": "32e43047",
   "metadata": {},
   "outputs": [
    {
     "data": {
      "text/plain": [
       "array([[<AxesSubplot:title={'center':'actual_price'}>]], dtype=object)"
      ]
     },
     "execution_count": 138,
     "metadata": {},
     "output_type": "execute_result"
    },
    {
     "data": {
      "image/png": "[encoded data removed]",
      "text/plain": [
       "<Figure size 432x288 with 1 Axes>"
      ]
     },
     "metadata": {
      "needs_background": "light"
     },
     "output_type": "display_data"
    }
   ],
   "source": [
    "price_incorrect_df.hist(column='actual_price',bins=25)"
   ]
  },
  {
   "cell_type": "markdown",
   "id": "e2148f9b",
   "metadata": {},
   "source": [
    "Price predictions for home valued between 1 and 1.3 M seem to have more erros than compared to other price ranges."
   ]
  },
  {
   "cell_type": "code",
   "execution_count": null,
   "id": "d386dc95",
   "metadata": {},
   "outputs": [],
   "source": []
  }
 ],
 "metadata": {
  "kernelspec": {
   "display_name": "Python 3 (ipykernel)",
   "language": "python",
   "name": "python3"
  },
  "language_info": {
   "codemirror_mode": {
    "name": "ipython",
    "version": 3
   },
   "file_extension": ".py",
   "mimetype": "text/x-python",
   "name": "python",
   "nbconvert_exporter": "python",
   "pygments_lexer": "ipython3",
   "version": "3.9.7"
  }
 },
 "nbformat": 4,
 "nbformat_minor": 5
}
